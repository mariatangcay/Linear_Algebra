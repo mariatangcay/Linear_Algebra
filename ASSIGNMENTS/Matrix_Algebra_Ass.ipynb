{
 "cells": [
  {
   "cell_type": "markdown",
   "id": "a01c484f",
   "metadata": {},
   "source": [
    "\n"
   ]
  },
  {
   "cell_type": "markdown",
   "id": "c1d526de",
   "metadata": {},
   "source": [
    "## Coding Challenges\n"
   ]
  },
  {
   "cell_type": "markdown",
   "id": "2c7cb593",
   "metadata": {},
   "source": [
    "1. Without the use of any python libraries or modules, develop a function that can perform matrix addition, given two numpy matrices.\n"
   ]
  },
  {
   "cell_type": "code",
   "execution_count": 61,
   "id": "d8d48c20",
   "metadata": {},
   "outputs": [
    {
     "name": "stdout",
     "output_type": "stream",
     "text": [
      "[6, 8]\n",
      "[10, 12]\n"
     ]
    }
   ],
   "source": [
    "def matrix_addition(matrix1, matrix2):\n",
    "    # Check if the matrices have the same dimensions\n",
    "    if len(matrix1) != len(matrix2) or len(matrix1[0]) != len(matrix2[0]):\n",
    "        raise ValueError(\"Matrices must have the same dimensions\")\n",
    "\n",
    "    # Create an empty matrix to store the result\n",
    "    result = [[0] * len(matrix1[0]) for _ in range(len(matrix1))]\n",
    "\n",
    "    # Perform matrix addition element-wise\n",
    "    for i in range(len(matrix1)):\n",
    "        for j in range(len(matrix1[0])):\n",
    "            result[i][j] = matrix1[i][j] + matrix2[i][j]\n",
    "\n",
    "    return result\n",
    "\n",
    "\n",
    "# Test\n",
    "matrix3 = [[1, 2],\n",
    "           [3, 4]]\n",
    "matrix4 = [[5, 6],\n",
    "           [7, 8]]\n",
    "\n",
    "result = matrix_addition(matrix3, matrix4)\n",
    "for row in result:\n",
    "    print(row)"
   ]
  },
  {
   "cell_type": "markdown",
   "id": "f65381e7",
   "metadata": {},
   "source": [
    "2. Without the use of any python libraries or modules, develop a function that can multiply two numpy matrices.\n"
   ]
  },
  {
   "cell_type": "code",
   "execution_count": 62,
   "id": "5db36d36",
   "metadata": {},
   "outputs": [
    {
     "name": "stdout",
     "output_type": "stream",
     "text": [
      "[58, 64]\n",
      "[139, 154]\n"
     ]
    }
   ],
   "source": [
    "def matrix_multiplication(matrix1, matrix2):\n",
    "    # Check if the matrices can be multiplied\n",
    "    if len(matrix1[0]) != len(matrix2):\n",
    "        raise ValueError(\n",
    "            \"The number of columns in matrix1 must be equal to the number of rows in matrix2\")\n",
    "\n",
    "    # Create an empty matrix to store the result\n",
    "    result = [[0] * len(matrix2[0]) for _ in range(len(matrix1))]\n",
    "\n",
    "    # Perform matrix multiplication\n",
    "    for i in range(len(matrix1)):\n",
    "        for j in range(len(matrix2[0])):\n",
    "            for k in range(len(matrix2)):\n",
    "                result[i][j] += matrix1[i][k] * matrix2[k][j]\n",
    "\n",
    "    return result\n",
    "\n",
    "\n",
    "# Test\n",
    "matrix1 = [[1, 2, 3],\n",
    "           [4, 5, 6]]\n",
    "matrix2 = [[7, 8],\n",
    "           [9, 10],\n",
    "           [11, 12]]\n",
    "\n",
    "result = matrix_multiplication(matrix1, matrix2)\n",
    "for row in result:\n",
    "    print(row)"
   ]
  },
  {
   "cell_type": "markdown",
   "id": "4b31c26d",
   "metadata": {},
   "source": [
    "3. The rule of distributivity states that given two matrices 𝐴 and 𝐵 and a scalar, 𝑘, then 𝑘(𝐴+𝐵)=𝑘𝐴+𝑘𝐵. Instead of writing a proof mathematically, develop two codes for 𝑘(𝐴+𝐵) and 𝑘𝐴+𝑘𝐵.\n"
   ]
  },
  {
   "cell_type": "code",
   "execution_count": 63,
   "id": "2fb5211b",
   "metadata": {},
   "outputs": [
    {
     "name": "stdout",
     "output_type": "stream",
     "text": [
      "[30, 40]\n",
      "[50, 60]\n",
      "\n",
      "[30, 40]\n",
      "[50, 60]\n"
     ]
    }
   ],
   "source": [
    "def distributivity1(k, A, B):\n",
    "    # Check if the matrices have the same dimensions\n",
    "    if len(A) != len(B) or len(A[0]) != len(B[0]):\n",
    "        raise ValueError(\"Matrices must have the same dimensions\")\n",
    "\n",
    "    # Create an empty matrix to store the result\n",
    "    result = [[0] * len(A[0]) for _ in range(len(A))]\n",
    "\n",
    "    # Perform matrix addition element-wise\n",
    "    for i in range(len(A)):\n",
    "        for j in range(len(A[0])):\n",
    "            result[i][j] = k * (A[i][j] + B[i][j])\n",
    "\n",
    "    return result\n",
    "\n",
    "\n",
    "def distributivity2(k, A, B):\n",
    "    # Check if the matrices have the same dimensions\n",
    "    if len(A) != len(B) or len(A[0]) != len(B[0]):\n",
    "        raise ValueError(\"Matrices must have the same dimensions\")\n",
    "\n",
    "    # Create an empty matrix to store the result\n",
    "    result = [[0] * len(A[0]) for _ in range(len(A))]\n",
    "\n",
    "    # Perform matrix multiplication by scalar k\n",
    "    A_k = [[k * A[i][j] for j in range(len(A[0]))] for i in range(len(A))]\n",
    "    B_k = [[k * B[i][j] for j in range(len(B[0]))] for i in range(len(B))]\n",
    "\n",
    "    # Perform matrix addition\n",
    "    for i in range(len(A)):\n",
    "        for j in range(len(A[0])):\n",
    "            result[i][j] = A_k[i][j] + B_k[i][j]\n",
    "\n",
    "    return result\n",
    "\n",
    "\n",
    "# Test\n",
    "k = 5\n",
    "A = [[1, 2],\n",
    "     [3, 4]]\n",
    "B = [[5, 6],\n",
    "     [7, 8]]\n",
    "\n",
    "result1 = distributivity1(k, A, B)\n",
    "result2 = distributivity2(k, A, B)\n",
    "\n",
    "for row in result1:\n",
    "    print(row)\n",
    "print()\n",
    "for row in result2:\n",
    "    print(row)"
   ]
  },
  {
   "cell_type": "markdown",
   "id": "bbf03f0d",
   "metadata": {},
   "source": [
    "4. Without using a python library or modules develop a function that can extract the diagonal of a numpy matrix.\n"
   ]
  },
  {
   "cell_type": "code",
   "execution_count": 64,
   "id": "c12b6199",
   "metadata": {},
   "outputs": [
    {
     "name": "stdout",
     "output_type": "stream",
     "text": [
      "[1, 5, 9]\n"
     ]
    }
   ],
   "source": [
    "def extract_diagonal(matrix):\n",
    "    # Check if the matrix is square\n",
    "    if len(matrix) != len(matrix[0]):\n",
    "        raise ValueError(\"Matrix must be square\")\n",
    "\n",
    "    # Extract the diagonal elements\n",
    "    diagonal = []\n",
    "    for i in range(len(matrix)):\n",
    "        diagonal.append(matrix[i][i])\n",
    "\n",
    "    return diagonal\n",
    "\n",
    "\n",
    "# Test\n",
    "matrix = [[1, 2, 3],\n",
    "          [4, 5, 6],\n",
    "          [7, 8, 9]]\n",
    "\n",
    "diagonal = extract_diagonal(matrix)\n",
    "print(diagonal)"
   ]
  },
  {
   "cell_type": "markdown",
   "id": "69c098f1",
   "metadata": {},
   "source": [
    "5. Without using a python library or modules develop a function that can find a trace of a numpy matrix.\n"
   ]
  },
  {
   "cell_type": "code",
   "execution_count": 65,
   "id": "0b109c30",
   "metadata": {},
   "outputs": [
    {
     "name": "stdout",
     "output_type": "stream",
     "text": [
      "15\n"
     ]
    }
   ],
   "source": [
    "def find_trace(matrix):\n",
    "    # Check if the matrix is square\n",
    "    if len(matrix) != len(matrix[0]):\n",
    "        raise ValueError(\"Matrix must be square\")\n",
    "\n",
    "    # Calculate the trace\n",
    "    trace = 0\n",
    "    for i in range(len(matrix)):\n",
    "        trace += matrix[i][i]\n",
    "\n",
    "    return trace\n",
    "\n",
    "\n",
    "# Test\n",
    "matrix = [[1, 2, 3],\n",
    "          [4, 5, 6],\n",
    "          [7, 8, 9]]\n",
    "\n",
    "trace = find_trace(matrix)\n",
    "print(trace)"
   ]
  },
  {
   "cell_type": "markdown",
   "id": "885c7dfa",
   "metadata": {},
   "source": [
    "# <font color=red> Problem Solving </font>\n",
    "\n",
    "---\n",
    "\n",
    "Instructions\n",
    "\n",
    "1. Write your solution in latex.\n",
    "2. Push your solutions to your github account.\n",
    "3. Deadline is before finals.\n",
    "\n",
    "---\n"
   ]
  },
  {
   "cell_type": "markdown",
   "id": "6df0aa0c",
   "metadata": {},
   "source": [
    "# 1. Solve $X$ given that\n"
   ]
  },
  {
   "cell_type": "markdown",
   "id": "69746230",
   "metadata": {},
   "source": [
    "\\begin{equation}\n",
    "A =\n",
    "\\begin{bmatrix}\n",
    "1 & 2 \\\\\n",
    "3 & 4 \\\\\n",
    "\\end{bmatrix},\n",
    "B =\n",
    "\\begin{bmatrix}\n",
    "-1 & 0 \\\\\n",
    "1 & 1 \\\\\n",
    "\\end{bmatrix}\n",
    "\\end{equation}\n",
    "\n"
   ]
  },
  {
   "cell_type": "markdown",
   "id": "491bc992",
   "metadata": {},
   "source": [
    "a. $3X = A-2B$<br>\n"
   ]
  },
  {
   "cell_type": "markdown",
   "id": "d0de0e15",
   "metadata": {},
   "source": [
    "To solve for X in the equation $3X = A - 2B$, we can follow these steps:\n",
    "\n",
    "1. Divide both sides of the equation by 3: $X = \\frac{1}{3}(A - 2B)$\n",
    "\n",
    "2. Substitute the given values for A and B:\n",
    "    $A = \\begin{bmatrix} 1 & 2 \\\\ 3 & 4 \\end{bmatrix}$\n",
    "    $B = \\begin{bmatrix} -1 & 0 \\\\ 1 & 1 \\end{bmatrix}$\n",
    "\n",
    "3. Calculate A - 2B:\n",
    "    $A - 2B = \\begin{bmatrix} 1 & 2 \\\\ 3 & 4 \\end{bmatrix} - 2 \\begin{bmatrix} -1 & 0 \\\\ 1 & 1 \\end{bmatrix}$\n",
    "    $= \\begin{bmatrix} 1 & 2 \\\\ 3 & 4 \\end{bmatrix} - \\begin{bmatrix} -2 & 0 \\\\ 2 & 2 \\end{bmatrix}$\n",
    "    $= \\begin{bmatrix} 3 & 2 \\\\ 1 & 2 \\end{bmatrix}$\n",
    "\n",
    "4. Multiply the result by $\\frac{1}{3}$:\n",
    "    $X = \\frac{1}{3} \\begin{bmatrix} 3 & 2 \\\\ 1 & 2 \\end{bmatrix}$\n",
    "\n",
    "Therefore, the solution for X is:\n",
    "$\\boxed{X = \\begin{bmatrix} 1 & \\frac{2}{3} \\\\ \\frac{1}{3} & \\frac{2}{3} \\end{bmatrix}}$\n"
   ]
  },
  {
   "cell_type": "code",
   "execution_count": 66,
   "id": "66ca4d98",
   "metadata": {},
   "outputs": [
    {
     "name": "stdout",
     "output_type": "stream",
     "text": [
      "[[1.         0.66666667]\n",
      " [0.33333333 0.66666667]]\n"
     ]
    }
   ],
   "source": [
    "# Python Solution\n",
    "import numpy as np\n",
    "\n",
    "# Define matrices\n",
    "A = np.array([[1, 2], [3, 4]])\n",
    "B = np.array([[-1, 0], [1, 1]])\n",
    "\n",
    "# Compute A - 2B\n",
    "result = A - 2 * B\n",
    "\n",
    "# Divide result by 3\n",
    "result = result / 3\n",
    "\n",
    "# Print result\n",
    "print(result)"
   ]
  },
  {
   "cell_type": "markdown",
   "id": "4e1a8f3f",
   "metadata": {},
   "source": [
    "b. $2(A-B+2X) = 3(X-B)$<br>"
   ]
  },
  {
   "cell_type": "markdown",
   "id": "e568248e",
   "metadata": {},
   "source": [
    "To solve for X in the equation $2(A - B + 2X) = 3(X - B)$, we can follow these steps:\n",
    "\n",
    "1. Distribute the coefficients:\n",
    "    $2A - 2B + 4X = 3X - 3B$\n",
    "\n",
    "2. Combine like terms:\n",
    "    $4X - 3X = 2B - 2A - 3B$\n",
    "\n",
    "3. Simplify:\n",
    "    $X = (2B - 2A - 3B)$\n",
    "\n",
    "Therefore, the solution for X is:\n",
    "$\\boxed{X = 2B - 2A - 3B}$\n"
   ]
  },
  {
   "cell_type": "markdown",
   "id": "a706452c",
   "metadata": {},
   "source": [
    "Calculate the $\\boxed{X = 2B - 2A - 3B}$:\n"
   ]
  },
  {
   "cell_type": "markdown",
   "id": "8d7cf18a",
   "metadata": {},
   "source": [
    "X = 2 $\\begin{bmatrix} -1 & 0 \\\\ 1 & 1 \\end{bmatrix}$ - 2 $\\begin{bmatrix} 1 & 2 \\\\ 3 & 4 \\end{bmatrix}$ - 3 $\\begin{bmatrix} -1 & 0 \\\\ 1 & 1 \\end{bmatrix}$\n",
    "$= \\begin{bmatrix} -2 & 0 \\\\ 2 & 2 \\end{bmatrix}$ - $\\begin{bmatrix} 2 & 4 \\\\ 6 & 8 \\end{bmatrix}$ - $\\begin{bmatrix} -3 & 0 \\\\ 3 & 3 \\end{bmatrix}$"
   ]
  },
  {
   "cell_type": "markdown",
   "id": "f0da2015",
   "metadata": {},
   "source": [
    "$\\boxed{X =\n",
    "\\begin{bmatrix}\n",
    "-1 & -4 \\\\\n",
    "-7 & -9 \\\\\n",
    "\\end{bmatrix}}\n",
    "$"
   ]
  },
  {
   "cell_type": "code",
   "execution_count": 67,
   "id": "3720c4c3",
   "metadata": {
    "scrolled": true
   },
   "outputs": [
    {
     "name": "stdout",
     "output_type": "stream",
     "text": [
      "[[-1 -4]\n",
      " [-7 -9]]\n"
     ]
    }
   ],
   "source": [
    "# Python Solution\n",
    "import numpy as np\n",
    "\n",
    "# Define matrices\n",
    "A = np.array([[1, 2], [3, 4]])\n",
    "B = np.array([[-1, 0], [1, 1]])\n",
    "\n",
    "# Compute X \n",
    "x = 2 * B - 2 * A - 3 * B\n",
    "\n",
    "# Print result\n",
    "print(x)\n"
   ]
  },
  {
   "cell_type": "markdown",
   "id": "146444b0",
   "metadata": {},
   "source": [
    "2. Write $B$ as a linear combination of the other matrices, if possible.\n",
    "- \n",
    "\\begin{equation}\n",
    "A_1 =\n",
    "\\begin{bmatrix}\n",
    "1 & 2 \\\\\n",
    "-1 & 1 \\\\\n",
    "\\end{bmatrix},\n",
    "A_2 =\n",
    "\\begin{bmatrix}\n",
    "0 & 1 \\\\\n",
    "2 & 1 \\\\\n",
    "\\end{bmatrix},\n",
    "B =\n",
    "\\begin{bmatrix}\n",
    "2 & 5 \\\\\n",
    "0 & 3 \\\\\n",
    "\\end{bmatrix}\n",
    "\\end{equation}\n",
    "<br><br>"
   ]
  },
  {
   "cell_type": "markdown",
   "id": "6ac60494",
   "metadata": {},
   "source": [
    "$B = c_1A_1 + c_2A_2\\\\\n",
    "\\text{Solving for $c_1$ & $c_2$ via systems of linear equations:} \\\\\n",
    "2 = c_1 \\cdot 1 + c_2 \\cdot 0 \\\\\n",
    "5 = c_1 \\cdot 2 + c_2 \\cdot 1 \\\\\n",
    "0 = c_1 \\cdot (-1) + c_2 \\cdot 2 \\\\\n",
    "3 = c_1 \\cdot 1 + c_2 \\cdot 1 \\\\\n",
    "\\\\ Eq1: 2 = c_1 \\quad \\Rightarrow \\quad c_1 = 2\n",
    "\\\\ Eq2: 5 = 2c_1 + c_2 = 2 \\cdot 2 + c_2 \\quad \\Rightarrow \\quad c_2 = -4 \\\\\n",
    "\\\\ \\boxed{c_1 = 2,\\ c_2 = -4 \\\\ B = 2A_1 - 4A_2}\n",
    "$"
   ]
  },
  {
   "cell_type": "markdown",
   "id": "9ecd0f44",
   "metadata": {},
   "source": [
    "- \n",
    "\\begin{equation}\n",
    "A_1 =\n",
    "\\begin{bmatrix}\n",
    "1 & 0 \\\\\n",
    "0 & 1 \\\\\n",
    "\\end{bmatrix},\n",
    "A_2 =\n",
    "\\begin{bmatrix}\n",
    "0 & 1 \\\\\n",
    "1 & 0 \\\\\n",
    "\\end{bmatrix},\n",
    "A_3 =\n",
    "\\begin{bmatrix}\n",
    "1 & -1 \\\\\n",
    "1 & 1 \\\\\n",
    "\\end{bmatrix},\n",
    "B =\n",
    "\\begin{bmatrix}\n",
    "2 & 5 \\\\\n",
    "0 & 3 \\\\\n",
    "\\end{bmatrix}\n",
    "\\end{equation}\n",
    "<br>\n",
    "<br>"
   ]
  },
  {
   "cell_type": "markdown",
   "id": "47bfeb41",
   "metadata": {},
   "source": [
    "$B = c_1A_1 + c_2A_2 + c_3A_3 $<br>\n",
    "$\\text{Solving for $c_1$, $c_2 $ & $c_3$ via systems of linear equations:}$\n",
    "$\n",
    "2 = c_1 \\cdot 1 + c_2 \\cdot 0 + c_3 \\cdot 1 \\\\\n",
    "5 = c_1 \\cdot 0 + c_2 \\cdot 1 + c_3 \\cdot (-1) \\\\\n",
    "0 = c_1 \\cdot 1 + c_2 \\cdot 1 + c_3 \\cdot 1 \\\\\n",
    "3 = c_1 \\cdot 0 + c_2 \\cdot 0 + c_3 \\cdot 1\n",
    "\\\\\n",
    "Eq1: 2 = c_1 + c_3 \\\\\n",
    "Eq2: 5 = c_2 - c_3 \\\\\n",
    "Eq3: 0 = c_1 + c_2 + c_3 \\\\\n",
    "Eq4: 3 = c_3 \\\\\n",
    "\\boxed{2 = c_1 + 3 \\quad \\Rightarrow \\quad c_1 = -1 \\\\\n",
    "5 = c_2 - 3 \\quad \\Rightarrow \\quad c_2 = 8 \\\\\n",
    "3 = c_3 \\quad \\Rightarrow \\quad c_3 = 3 \\\\\n",
    "B = -1A_1 + 8A_2 + 3A_3}\n",
    "$\n"
   ]
  },
  {
   "cell_type": "markdown",
   "id": "7e2c56b9",
   "metadata": {},
   "source": [
    "3. Given the following:\n",
    "\\begin{equation}\n",
    "A =\n",
    "\\begin{bmatrix}\n",
    "1 & 2 \\\\\n",
    "2 & 6 \\\\\n",
    "\\end{bmatrix},\n",
    "b_1 =\n",
    "\\begin{bmatrix}\n",
    "3 \\\\\n",
    "5 \\\\\n",
    "\\end{bmatrix},\n",
    "b_2 =\n",
    "\\begin{bmatrix}\n",
    "-1 \\\\\n",
    "2 \\\\\n",
    "\\end{bmatrix},\n",
    "b_3 =\n",
    "\\begin{bmatrix}\n",
    "2 \\\\\n",
    "0 \\\\\n",
    "\\end{bmatrix}\n",
    "\\end{equation}\n",
    "- Find $A^{-1}$, and use this to solve for $Ax=b_1,Ax=b_2,Ax=b_3$\n",
    "- Solve all three linear systems by row reducing the augmented matrix:\n",
    "\\begin{equation}\n",
    "\\begin{bmatrix}\n",
    "\\begin{array}{c|ccc}\n",
    "A &\n",
    "b_1 &\n",
    "b_2 &\n",
    "b_3 \\\\\n",
    "\\end{array}\n",
    "\\end{bmatrix}\n",
    "\\end{equation}"
   ]
  },
  {
   "cell_type": "markdown",
   "id": "39c69750",
   "metadata": {},
   "source": [
    "$A^{-1} = (\\frac{1}{det(A)}) * \n",
    "\\begin{bmatrix}\n",
    "d & -b \\\\\n",
    "-c & a \\\\\n",
    "\\end{bmatrix} \\\\\n",
    "det(A) = (1 * 6) - (2 * 2) = 6 - 4 = 2 \\\\\n",
    "A^{-1} = (\\frac{1}{2}) * \n",
    "\\begin{bmatrix}\n",
    "6 & -2 \\\\\n",
    "-2 & 1 \\\\\n",
    "\\end{bmatrix}\n",
    "=\n",
    "\\begin{bmatrix}\n",
    "3 & -1 \\\\\n",
    "-1 & \\frac{1}{2} \\\\\n",
    "\\end{bmatrix} \\\\\n",
    "A | b_1 = \\begin{bmatrix}\\begin{array}{cc|c}\n",
    "1 & 2 & 3 \\\\\n",
    "2 & 6 & 5 \\\\\n",
    "\\end{array}\\end{bmatrix}\n",
    "\\xrightarrow{\\text{R}_{2}-2\\text{R}_{1}} \n",
    "\\begin{bmatrix}\\begin{array}{cc|c}\n",
    "1 & 2 & 3 \\\\\n",
    "0 & 2 & -1 \\\\\n",
    "\\end{array}\\end{bmatrix}\n",
    "\\xrightarrow{\\frac{1}{2}R_2}\n",
    "\\begin{bmatrix}\\begin{array}{cc|c}\n",
    "1 & 2 & 3 \\\\\n",
    "0 & 1 & -0.5 \\\\\n",
    "\\end{array}\\end{bmatrix}\n",
    "\\xrightarrow{\\text{R}_{1}-2\\text{R}_{2}} \n",
    "\\begin{bmatrix}\\begin{array}{cc|c}\n",
    "1 & 0 & 4 \\\\\n",
    "0 & 1 & -0.5 \\\\\n",
    "\\end{array}\\end{bmatrix} \\\\\n",
    "\\boxed{A | b_1: x_1 = 4, x_2 = -0.5} \\\\\n",
    "A | b_2 = \\begin{bmatrix}\\begin{array}{cc|c}\n",
    "1 & 2 & -1 \\\\\n",
    "2 & 6 & 2 \\\\\n",
    "\\end{array}\\end{bmatrix}\n",
    "\\xrightarrow{\\text{R}_{2}-2\\text{R}_{1}} \n",
    "\\begin{bmatrix}\\begin{array}{cc|c}\n",
    "1 & 2 & -1 \\\\\n",
    "0 & 2 & 4 \\\\\n",
    "\\end{array}\\end{bmatrix}\n",
    "\\xrightarrow{\\frac{1}{2}R_2}\n",
    "\\begin{bmatrix}\\begin{array}{cc|c}\n",
    "1 & 2 & -1 \\\\\n",
    "0 & 1 & 2 \\\\\n",
    "\\end{array}\\end{bmatrix}\n",
    "\\xrightarrow{\\text{R}_{1}-2\\text{R}_{2}} \n",
    "\\begin{bmatrix}\\begin{array}{cc|c}\n",
    "1 & 0 & -5 \\\\\n",
    "0 & 1 & 2 \\\\\n",
    "\\end{array}\\end{bmatrix} \\\\\n",
    "\\boxed{A | b_2: x_1 = -5, x_2 = 2} \\\\\n",
    "A | b_3 = \\begin{bmatrix}\\begin{array}{cc|c}\n",
    "1 & 2 & 2 \\\\\n",
    "2 & 6 & 0 \\\\\n",
    "\\end{array}\\end{bmatrix}\n",
    "\\xrightarrow{\\text{R}_{2}-2\\text{R}_{1}} \n",
    "\\begin{bmatrix}\\begin{array}{cc|c}\n",
    "1 & 2 & 2 \\\\\n",
    "0 & 2 & -4 \\\\\n",
    "\\end{array}\\end{bmatrix}\n",
    "\\xrightarrow{\\frac{1}{2}R_2}\n",
    "\\begin{bmatrix}\\begin{array}{cc|c}\n",
    "1 & 2 & 2 \\\\\n",
    "0 & 1 & -2 \\\\\n",
    "\\end{array}\\end{bmatrix}\n",
    "\\xrightarrow{\\text{R}_{1}-2\\text{R}_{2}} \n",
    "\\begin{bmatrix}\\begin{array}{cc|c}\n",
    "1 & 0 & 6 \\\\\n",
    "0 & 1 & -2 \\\\\n",
    "\\end{array}\\end{bmatrix} \\\\\n",
    "\\boxed{A | b_3: x_1 = 6, x_2 = -2} \\\\\n",
    "$"
   ]
  },
  {
   "cell_type": "markdown",
   "id": "2417e194",
   "metadata": {},
   "source": [
    "4. In each given, determine if $b$ is in $col(A)$, and $w$ is in $row(A)$\n",
    "- \n",
    "\\begin{equation}\n",
    "A =\n",
    "\\begin{bmatrix}\n",
    "1 & 0 & -1 \\\\\n",
    "1 & 1 & 1 \\\\\n",
    "\\end{bmatrix},\n",
    "b =\n",
    "\\begin{bmatrix}\n",
    "3 \\\\\n",
    "2 \\\\\n",
    "\\end{bmatrix},\n",
    "w =\n",
    "\\begin{bmatrix}\n",
    "-1 &\n",
    "1 &\n",
    "1\n",
    "\\end{bmatrix},\n",
    "\\end{equation}"
   ]
  },
  {
   "cell_type": "markdown",
   "id": "72dc7699",
   "metadata": {},
   "source": [
    "$A =\n",
    "\\begin{bmatrix}\n",
    "1 & 0 & -1 \\\\\n",
    "1 & 1 & 1 \\\\\n",
    "\\end{bmatrix}\n",
    "\\xrightarrow{\\text{R}_{2}-\\text{R}_{1}} \n",
    "\\begin{bmatrix}\n",
    "1 & 0 & -1 \\\\\n",
    "0 & 1 & 2 \\\\\n",
    "\\end{bmatrix} \\\\\n",
    "\\text{Column space of A is spanned by v1 = [1, 1] & v2 = [0, 1]} \\\\\n",
    "c_1 \\begin{bmatrix} 1 \\\\ 1 \\end{bmatrix} + c_2 \\begin{bmatrix} 0 \\\\ 1 \\end{bmatrix} = \\begin{bmatrix} 3 \\\\ 2 \\end{bmatrix} \\\\\n",
    "c_1 = 3 \\\\\n",
    "c_1 + c_2 = 2 \\Rightarrow c_2 = -1\\\\\n",
    "rows\\ space \\ of \\ A: \\ rv_1 \\ = \\ [1, 0, -1] \\ and \\ rv_2 = [1, 1, 1] \\\\\n",
    "Vector \\ w = [-1, 1, 1] \\\\\n",
    "d_1 \\begin{bmatrix} 1 & 0 & -1 \\end{bmatrix} + d_2 \\begin{bmatrix} 1 & 1 & 1 \\end{bmatrix} = [-1, 1, 1] \\\\\n",
    "\\begin{align*}\n",
    "d_1 + d_2 &= -1 \\\\\n",
    "d_2 &= 1 \\\\\n",
    "-d_1 + d_2 &= 1\n",
    "\\end{align*} \\\\\n",
    "d_1 \\ = \\ -1 \\ and \\ d_2 \\ = \\ 1 \\\\\n",
    "\\boxed{\\text{vector b is in the column space of A, and vector w is in the row space of A}}\n",
    "$\n",
    "<br><br>"
   ]
  },
  {
   "cell_type": "markdown",
   "id": "7d16123f",
   "metadata": {},
   "source": [
    "- \n",
    "\\begin{equation}\n",
    "A =\n",
    "\\begin{bmatrix}\n",
    "1 & 1 & -1 \\\\\n",
    "1 & 3 & 0 \\\\\n",
    "3 & -1 & -5 \\\\\n",
    "\\end{bmatrix},\n",
    "b =\n",
    "\\begin{bmatrix}\n",
    "1 \\\\\n",
    "2 \\\\\n",
    "1 \\\\\n",
    "\\end{bmatrix},\n",
    "w =\n",
    "\\begin{bmatrix}\n",
    "1 &\n",
    "-3 &\n",
    "-3\n",
    "\\end{bmatrix},\n",
    "\\end{equation}"
   ]
  },
  {
   "cell_type": "markdown",
   "id": "e15bf0ef",
   "metadata": {},
   "source": [
    "\\begin{align*}\n",
    "Ax &= b \\\\\n",
    "\\Rightarrow \\quad \\begin{bmatrix}\n",
    "1 & 1 & -1 \\\\\n",
    "1 & 3 & 0 \\\\\n",
    "3 & -1 & -5\n",
    "\\end{bmatrix}\n",
    "\\begin{bmatrix}\n",
    "x_1 \\\\\n",
    "x_2 \\\\\n",
    "x_3\n",
    "\\end{bmatrix}\n",
    "&= \\begin{bmatrix}\n",
    "1 \\\\\n",
    "2 \\\\\n",
    "1\n",
    "\\end{bmatrix} \\\\\n",
    "\\Rightarrow \\quad \\begin{bmatrix}\n",
    "x_1 + x_2 - x_3 &= 1 \\\\\n",
    "x_1 + 3x_2 &= 2 \\\\\n",
    "3x_1 - x_2 - 5x_3 &= 1\n",
    "\\end{bmatrix}\n",
    "\\end{align*}\n",
    "\\begin{align*}\n",
    "\\\\x^T A &= w^T \\\\\n",
    "\\Rightarrow \\qquad\n",
    "\\begin{pmatrix}\n",
    "x_1 \\\\\n",
    "x_2 \\\\\n",
    "x_3\n",
    "\\end{pmatrix}^T\n",
    "\\begin{pmatrix}\n",
    "1 & 1 & -1 \\\\\n",
    "1 & 3 & 0 \\\\\n",
    "3 & -1 & -5\n",
    "\\end{pmatrix}\n",
    "&= \\begin{pmatrix}\n",
    "1 &\n",
    "-3 &\n",
    "-3\n",
    "\\end{pmatrix}^T \\\\\n",
    "\\Rightarrow \\quad \\begin{bmatrix}\n",
    "x_1 + 3x_2 - 5x_3 &= 1 \\\\\n",
    "x_1 + x_2 + x_3 &= -3 \\\\\n",
    "-x_1 - x_2 - 3x_3 &= -3\n",
    "\\end{bmatrix}\n",
    "\\end{align*}\n",
    "\n",
    "$\\boxed{\\text{vector b is in the column space of A, and vector w is in the row space of A}}$"
   ]
  },
  {
   "cell_type": "markdown",
   "id": "5065479c",
   "metadata": {},
   "source": [
    "5. Find the rank and nullity of:\n",
    "\\begin{bmatrix}\n",
    "2 & 4 & 0 & 0 & 1 \\\\\n",
    "6 & 3 & 5 & 1 & 0 \\\\\n",
    "1 & 0 & 2 & 2 & 5 \\\\\n",
    "1 & 1 & 1 & 1 & 1 \\\\\n",
    "\\end{bmatrix}"
   ]
  },
  {
   "cell_type": "markdown",
   "id": "305ff29f",
   "metadata": {},
   "source": [
    "$\\begin{bmatrix}\n",
    "2 & 4 & 0 & 0 & 1 \\\\\n",
    "6 & 3 & 5 & 1 & 0 \\\\\n",
    "1 & 0 & 2 & 2 & 5 \\\\\n",
    "1 & 1 & 1 & 1 & 1 \\\\\n",
    "\\end{bmatrix}\n",
    "\\xrightarrow{\\text{R}_{2}-3\\text{R}_{1}}\n",
    "\\begin{bmatrix}\n",
    "2 & 4 & 0 & 0 & 1 \\\\\n",
    "0 & -9 & 5 & 1 & -3 \\\\\n",
    "1 & 0 & 2 & 2 & 5 \\\\\n",
    "1 & 1 & 1 & 1 & 1 \\\\\n",
    "\\end{bmatrix}\n",
    "\\xrightarrow{\\text{R}_{3}-\\frac{1}{2}R_1}\n",
    "\\begin{bmatrix}\n",
    "2 & 4 & 0 & 0 & 1 \\\\\n",
    "0 & -9 & 5 & 1 & -3 \\\\\n",
    "0 & -2 & 2 & 2 & 4 \\\\\n",
    "1 & 1 & 1 & 1 & 1 \\\\\n",
    "\\end{bmatrix}\n",
    "\\xrightarrow{-\\frac{1}{9}R_2}\n",
    "\\begin{bmatrix}\n",
    "2 & 4 & 0 & 0 & 1 \\\\\n",
    "0 & 1 & -5/9 & -1/9 & 1/3 \\\\\n",
    "0 & -2 & 2 & 2 & 4 \\\\\n",
    "0 & 4.5 & -1.5 & 0.5 & 1.5 \\\\\n",
    "\\end{bmatrix}\n",
    "\\xrightarrow{\\text{R}_{3} + 2{R}_{2} \\ \\text{R}_4 + \\frac{9}{2}R_2}\n",
    "\\begin{bmatrix}\n",
    "2 & 4 & 0 & 0 & 1 \\\\\n",
    "0 & 1 & -5/9 & -1/9 & 1/3 \\\\\n",
    "0 & 0 & 4/9 & 4/9 & 10/3 \\\\\n",
    "0 & 0 & 0 & 0 & 0 \\\\\n",
    "\\end{bmatrix} \\\\\n",
    "\\boxed{\\text{rank of the matrix = 3} \\\\ \n",
    "       \\text{nullity = # of columns - rank = 2}}\n",
    "$"
   ]
  },
  {
   "cell_type": "code",
   "execution_count": null,
   "id": "4ae13d59",
   "metadata": {},
   "outputs": [],
   "source": []
  }
 ],
 "metadata": {
  "kernelspec": {
   "display_name": "Python 3 (ipykernel)",
   "language": "python",
   "name": "python3"
  },
  "language_info": {
   "codemirror_mode": {
    "name": "ipython",
    "version": 3
   },
   "file_extension": ".py",
   "mimetype": "text/x-python",
   "name": "python",
   "nbconvert_exporter": "python",
   "pygments_lexer": "ipython3",
   "version": "3.12.0"
  }
 },
 "nbformat": 4,
 "nbformat_minor": 5
}
