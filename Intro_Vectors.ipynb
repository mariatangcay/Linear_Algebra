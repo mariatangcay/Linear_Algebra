{
 "cells": [
  {
   "cell_type": "markdown",
   "id": "c1523e3f",
   "metadata": {},
   "source": [
    "## Intro_Vectors Assignment\n"
   ]
  },
  {
   "cell_type": "markdown",
   "id": "a85f08a7",
   "metadata": {},
   "source": [
    "Instructions:<br>\n",
    "1. Create a folder in your github account titled Intro_Vectors.<br>\n",
    "2. Use Jupyterhub notebook to answer the problems.<br>\n",
    "3. Rename Jupyter notebook to Intro_Vectors.ipynb.<br>\n",
    "4. Show both manual and pythonic solutions.<br>\n",
    "5. For manual solutions write it in Latex format.<br>"
   ]
  },
  {
   "cell_type": "markdown",
   "id": "1abc6d1c",
   "metadata": {},
   "source": [
    "# 1.L"
   ]
  },
  {
   "cell_type": "markdown",
   "id": "76e5574e",
   "metadata": {},
   "source": [
    "Let $\\textbf{u} = (1, -2, 4)$ and $\\textbf{v} = (3,5,1)$ $\\textbf{w} = (2,1,-3)$ find:<br>\n"
   ]
  },
  {
   "cell_type": "markdown",
   "id": "78112769",
   "metadata": {},
   "source": [
    "a. $3\\textbf{u}-2\\textbf{v} =$<br>\n"
   ]
  },
  {
   "cell_type": "markdown",
   "id": "3d488a88",
   "metadata": {},
   "source": [
    "\\begin{aligned}\n",
    "a & =  3\\mathbf{u} - 2\\mathbf{v}\\\\\n",
    "& =  3[1,-2,4] - 2[3,5,1]\\\\\n",
    "& =  [3,-6,12] - [6,10,2]\\\\\n",
    "a& =  [-3, -16, 10]\n",
    "\\end{aligned}\n"
   ]
  },
  {
   "cell_type": "markdown",
   "id": "62c6cdc2",
   "metadata": {},
   "source": [
    "b. $5\\textbf{u}+3\\textbf{v}-4\\textbf{w}$<br>\n"
   ]
  },
  {
   "cell_type": "markdown",
   "id": "e85647eb",
   "metadata": {},
   "source": [
    "\\begin{align*}\n",
    "b & = 5[1,-2,4] + 3[3,5,1] - 4[2,1,-3] \\\\\n",
    "& = [5,-10,20] + [9,15,3] - [8,4,-12] \\\\\n",
    "b& = [6,1,35]\n",
    "\\end{align*}"
   ]
  },
  {
   "cell_type": "markdown",
   "id": "2f25493b",
   "metadata": {},
   "source": [
    "c. $\\textbf{u} \\cdotp \\textbf{v}$,$\\textbf{v} \\cdotp \\textbf{w}$, $\\textbf{u} \\cdotp \\textbf{w}$<br>"
   ]
  },
  {
   "cell_type": "markdown",
   "id": "160d6226",
   "metadata": {},
   "source": [
    "\\begin{align*}\n",
    "\\mathbf{u} \\cdot \\mathbf{v} &  = (1)(3) + (-2)(5) + (4)(1) \\\\\n",
    "& = 3 - 10 + 4 \\\\\n",
    "& = -3 \\\\\n",
    "\\mathbf{v} \\cdot \\mathbf{w} \n",
    "& = (3)(2) + (5)(1) + (1)(-3) \\\\\n",
    "& = 6 + 5 - 3 \\\\\n",
    "& = 8 \\\\\n",
    "\\mathbf{u} \\cdot \\mathbf{w} \n",
    "& = (1)(2) + (-2)(1) + (4)(-3) \\\\\n",
    "& = 2 - 2 - 12 \\\\\n",
    "& = -12 \\\\\n",
    "\\end{align*}\n"
   ]
  },
  {
   "cell_type": "markdown",
   "id": "4be00b60",
   "metadata": {},
   "source": [
    "d. $||\\textbf{u}||, ||\\textbf{v}||, ||\\textbf{w}||$<br>"
   ]
  },
  {
   "cell_type": "markdown",
   "id": "d68fcc89",
   "metadata": {},
   "source": [
    "\\begin{aligned}\n",
    "||\\mathbf{u}|| &= \\sqrt{\\mathbf{u} \\cdot \\mathbf{u}} = \\sqrt{1^{2} + (-2)^{2} + 4^{2}} = \\sqrt{21}  \\\\\n",
    "||\\mathbf{v}|| &= \\sqrt{\\mathbf{v} \\cdot \\mathbf{v}} = \\sqrt{3^{2} + 5^{2} + 1^{2}} = \\sqrt{35}  \\\\\n",
    "||\\mathbf{w}|| &= \\sqrt{\\mathbf{w} \\cdot \\mathbf{w}} = \\sqrt{2^{2} + 1^{2} + (-3)^{2}} = \\sqrt{14} \n",
    "\\end{aligned}\n"
   ]
  },
  {
   "cell_type": "markdown",
   "id": "760a63dc",
   "metadata": {},
   "source": [
    "e. If $\\theta$ is the angle between $\\textbf{u}$  and   $\\textbf{v}$, find $\\cos{\\theta}$.<br>"
   ]
  },
  {
   "cell_type": "markdown",
   "id": "0793dc49",
   "metadata": {},
   "source": [
    "\\begin{align*}\n",
    "\\cos(\\theta) & = \\frac{\\mathbf{u} \\cdot \\mathbf{v}}{{||\\mathbf{u}|| \\cdot ||\\mathbf{v}||}} \\\\\n",
    "& = \\frac{1(3) + (-2)(5) + 4(1)}{\\sqrt{1^{2} + (-2)^{2} + 4^{2}} \\sqrt{3^{2} + 5^{2} + 1^{2}}} \\\\\n",
    "& = \\frac{-3}{\\sqrt{21} \\sqrt{35}}  \n",
    "\\end{align*}\n"
   ]
  },
  {
   "cell_type": "markdown",
   "id": "6211f2c1",
   "metadata": {},
   "source": [
    "f. If $\\alpha$ is the angle between $\\textbf{v}$  and   $\\textbf{w}$, find $\\cos{\\alpha}$.<br>\n"
   ]
  },
  {
   "cell_type": "markdown",
   "id": "04dce3dd",
   "metadata": {},
   "source": [
    "\\begin{align*}\n",
    "\\cos(\\alpha) & = \\frac{\\mathbf{v} \\cdot \\mathbf{w}}{{||\\mathbf{v}|| \\cdot ||\\mathbf{w}||}} \\\\\n",
    "& = \\frac{3(2) + (5)(1) + 1(-3)}{\\sqrt{3^{2} + 5^{2} + 1^{2}} \\cdot \\sqrt{2^{2} + 1^{2} + (-3)^{2}}} \\\\\n",
    "& = \\frac{8}{\\sqrt{35} \\cdot \\sqrt{14}} \n",
    "\\end{align*}\n"
   ]
  },
  {
   "cell_type": "markdown",
   "id": "4f6dccfb",
   "metadata": {},
   "source": [
    "g. If $\\beta$ is the angle between $\\textbf{u}$  and   $\\textbf{w}$, find $\\cos{\\beta}$.<br>\n"
   ]
  },
  {
   "cell_type": "markdown",
   "id": "f09c3c56",
   "metadata": {},
   "source": [
    "\\begin{align*}\n",
    "\\cos(\\beta) & = \\frac{\\mathbf{u} \\cdot \\mathbf{w}}{{||\\mathbf{u}|| \\cdot ||\\mathbf{w}||}} \\\\\n",
    "& = \\frac{1(2) + (-2)(1) + 4(-3)}{\\sqrt{1^{2} + (-2)^{2} + 4^{2}} \\sqrt{2^{2} + 1^{2} + (-3)^{2}}} \\\\\n",
    "& = \\frac{-12}{\\sqrt{21} \\sqrt{14}} \n",
    "\\end{align*}\n"
   ]
  },
  {
   "cell_type": "markdown",
   "id": "3e9b012c",
   "metadata": {},
   "source": [
    "h. Find $d(\\textbf{u},\\textbf{v})$.<br>"
   ]
  },
  {
   "cell_type": "markdown",
   "id": "fc376176",
   "metadata": {},
   "source": [
    "\\begin{align*}\n",
    "d(\\mathbf{u}, \\mathbf{v}) & = ||\\mathbf{u} - \\mathbf{v}|| \\\\\n",
    "& = \\sqrt{(1-3)^2 + ((-2)-5)^2 + (4-1)^2} \\\\\n",
    "& = \\sqrt{4 + 49 + 9} \\\\\n",
    "& = \\sqrt{62} \n",
    "\\end{align*}\n"
   ]
  },
  {
   "cell_type": "markdown",
   "id": "c381d89e",
   "metadata": {},
   "source": [
    "i. Find $d(\\textbf{w},\\textbf{v})$.<br>\n"
   ]
  },
  {
   "cell_type": "markdown",
   "id": "00e7dbe5",
   "metadata": {},
   "source": [
    "\\begin{align*}\n",
    "d(\\mathbf{w},\\mathbf{v})&= ||\\mathbf{w} - \\mathbf{v}|| \\\\\n",
    "&= \\sqrt{(2-3)^2 + (1-5)^2 + (-3-1)^2} \\\\\n",
    "&= \\sqrt{(-1)^2 + (47)^2 + (-4)^2} \\\\\n",
    "&= \\sqrt{1 + 16 + 16} \\\\\n",
    "&= \\sqrt{33}\n",
    "\\end{align*}\n"
   ]
  },
  {
   "cell_type": "markdown",
   "id": "6b34dc12",
   "metadata": {},
   "source": [
    "j. Find $d(\\textbf{u},\\textbf{w})$. <br>"
   ]
  },
  {
   "cell_type": "markdown",
   "id": "63eaed2c",
   "metadata": {},
   "source": [
    "\\begin{align*}\n",
    "d(\\mathbf{u},\\mathbf{w}) &= ||\\mathbf{u} - \\mathbf{w}|| \\\\\n",
    "&= \\sqrt{(1-2)^2 + (-2-1)^2 + (4+3)^2} \\\\\n",
    "&= \\sqrt{(-1)^2 + (-3)^2 + (7)^2} \\\\\n",
    "&= \\sqrt{1 + 9 + 49} \\\\\n",
    "&= \\sqrt{59}\n",
    "\\end{align*}\n"
   ]
  },
  {
   "cell_type": "markdown",
   "id": "25c1f3f3",
   "metadata": {},
   "source": [
    "k. Find $proj(\\textbf{u},\\textbf{v})$.<br>"
   ]
  },
  {
   "cell_type": "markdown",
   "id": "299aa805",
   "metadata": {},
   "source": [
    "\n",
    "\\begin{align*}\n",
    "proj(\\mathbf{u},\\mathbf{v}) & = \\frac{\\mathbf{u} \\cdot \\mathbf{v}}{{||\\mathbf{v}||^2}}\\mathbf{v} \\\\\n",
    "& = \\frac{-3}{{(\\sqrt{35})^2}}(3,5,1) \\\\\n",
    "& = \\left(\\frac{-9}{35},\\frac{-3}{7},\\frac{-3}{35}\\right)\n",
    "\\end{align*}\n"
   ]
  },
  {
   "cell_type": "markdown",
   "id": "e799a765",
   "metadata": {},
   "source": [
    "l. Find $proj(\\textbf{w},\\textbf{v})$.<br>"
   ]
  },
  {
   "cell_type": "markdown",
   "id": "c5455321",
   "metadata": {},
   "source": [
    "\\begin{align*}\n",
    "proj(\\mathbf{w},\\mathbf{v}) & = \\frac{\\mathbf{w} \\cdot \\mathbf{v}}{{||\\mathbf{v}||^2}}\\mathbf{v} \\\\\n",
    "& = \\frac{8}{{(\\sqrt{35})^2}}(3,5,1) \\\\\n",
    "& = \\left(\\frac{24}{35},\\frac{8}{7},\\frac{8}{35}\\right)\n",
    "\\end{align*}\n"
   ]
  },
  {
   "cell_type": "markdown",
   "id": "1699ef27",
   "metadata": {},
   "source": [
    "m. Find $proj(\\textbf{u},\\textbf{w})$. <br>  "
   ]
  },
  {
   "cell_type": "markdown",
   "id": "ba211a53",
   "metadata": {},
   "source": [
    "\\begin{align*}\n",
    "proj(\\mathbf{u},\\mathbf{w}) & = \\frac{\\mathbf{u} \\cdot \\mathbf{w}}{{||\\mathbf{w}||^2}}\\mathbf{w} \\\\\n",
    "& = \\frac{-12}{{(\\sqrt{14})^2}}(2,1,-3) \\\\\n",
    "& = \\left(\\frac{-12}{7},\\frac{-6}{7},\\frac{18}{7}\\right)\n",
    "\\end{align*}\n"
   ]
  },
  {
   "cell_type": "markdown",
   "id": "c3b645ee",
   "metadata": {},
   "source": [
    "# 1.P"
   ]
  },
  {
   "cell_type": "code",
   "execution_count": 1,
   "id": "6bf5a1e2",
   "metadata": {},
   "outputs": [],
   "source": [
    "# Setting UP #\n",
    "import numpy as np\n",
    "\n",
    "# Let\n",
    "u = np.array([1,-2,4])\n",
    "v = np.array([3,5,1])\n",
    "w = np.array([2,1,-3])"
   ]
  },
  {
   "cell_type": "code",
   "execution_count": 2,
   "id": "a35be833",
   "metadata": {},
   "outputs": [
    {
     "name": "stdout",
     "output_type": "stream",
     "text": [
      "3u-2v: [ -3 -16  10]\n"
     ]
    }
   ],
   "source": [
    "#a.\n",
    "print(\"3u-2v:\", (3*u) - (2*v))"
   ]
  },
  {
   "cell_type": "code",
   "execution_count": 3,
   "id": "283a1c74",
   "metadata": {},
   "outputs": [
    {
     "name": "stdout",
     "output_type": "stream",
     "text": [
      "5u + 3v - 4w: [ 6  1 35]\n"
     ]
    }
   ],
   "source": [
    "#b.\n",
    "print(\"5u + 3v - 4w:\", (5*u) + (3*v) - (4*w))"
   ]
  },
  {
   "cell_type": "code",
   "execution_count": 4,
   "id": "bd0cbb92",
   "metadata": {},
   "outputs": [
    {
     "name": "stdout",
     "output_type": "stream",
     "text": [
      "u.v = -3\n",
      "v.w = 8\n",
      "u.w = -12\n"
     ]
    }
   ],
   "source": [
    "#c.\n",
    "print(\"u.v =\", u.dot(v))\n",
    "print(\"v.w =\", v.dot(w))\n",
    "print(\"u.w =\", u.dot(w))"
   ]
  },
  {
   "cell_type": "code",
   "execution_count": 5,
   "id": "d413fc58",
   "metadata": {},
   "outputs": [
    {
     "name": "stdout",
     "output_type": "stream",
     "text": [
      "||u|| = 4.58257569495584\n",
      "||v|| = 5.916079783099616\n",
      "||w|| = 3.7416573867739413\n"
     ]
    }
   ],
   "source": [
    "#d.\n",
    "print(\"||u|| =\",np.sqrt(u.dot(u)))\n",
    "print(\"||v|| =\",np.sqrt(v.dot(v)))\n",
    "print(\"||w|| =\",np.sqrt(w.dot(w)))"
   ]
  },
  {
   "cell_type": "code",
   "execution_count": 6,
   "id": "e831213a",
   "metadata": {},
   "outputs": [
    {
     "name": "stdout",
     "output_type": "stream",
     "text": [
      "angle: -0.11065666703449763\n"
     ]
    }
   ],
   "source": [
    "#e.\n",
    "print(\"angle:\", u.dot(v) / (np.linalg.norm(u) * np.linalg.norm(v)))"
   ]
  },
  {
   "cell_type": "code",
   "execution_count": 7,
   "id": "a7aa0a24",
   "metadata": {},
   "outputs": [
    {
     "name": "stdout",
     "output_type": "stream",
     "text": [
      "angle: 0.36140316116210053\n"
     ]
    }
   ],
   "source": [
    "#f.\n",
    "print(\"angle:\", v.dot(w) / (np.linalg.norm(v) * np.linalg.norm(w)))"
   ]
  },
  {
   "cell_type": "code",
   "execution_count": 8,
   "id": "366f5d92",
   "metadata": {},
   "outputs": [
    {
     "name": "stdout",
     "output_type": "stream",
     "text": [
      "angle: -0.6998542122237653\n"
     ]
    }
   ],
   "source": [
    "#g.\n",
    "print(\"angle:\", u.dot(w) / (np.linalg.norm(u) * np.linalg.norm(w)))"
   ]
  },
  {
   "cell_type": "code",
   "execution_count": 9,
   "id": "d14890b2",
   "metadata": {},
   "outputs": [
    {
     "name": "stdout",
     "output_type": "stream",
     "text": [
      "d(u,v): 7.874007874011811\n"
     ]
    }
   ],
   "source": [
    "#h.\n",
    "print(\"d(u,v):\", np.linalg.norm(u-v))"
   ]
  },
  {
   "cell_type": "code",
   "execution_count": 10,
   "id": "60d9c249",
   "metadata": {},
   "outputs": [
    {
     "name": "stdout",
     "output_type": "stream",
     "text": [
      "d(w,v): 5.744562646538029\n"
     ]
    }
   ],
   "source": [
    "#i.\n",
    "print(\"d(w,v):\", np.linalg.norm(w-v))"
   ]
  },
  {
   "cell_type": "code",
   "execution_count": 11,
   "id": "7545494a",
   "metadata": {},
   "outputs": [
    {
     "name": "stdout",
     "output_type": "stream",
     "text": [
      "d(u,w): 7.681145747868608\n"
     ]
    }
   ],
   "source": [
    "#j.\n",
    "print(\"d(u,w):\", np.linalg.norm(u-w))"
   ]
  },
  {
   "cell_type": "code",
   "execution_count": 12,
   "id": "ffb5ef1d",
   "metadata": {},
   "outputs": [
    {
     "name": "stdout",
     "output_type": "stream",
     "text": [
      "proj(u,v): [-0.25714286 -0.42857143 -0.08571429]\n",
      "proj(u,v): [-0.2571428571428571, -0.42857142857142855, -0.08571428571428572]\n"
     ]
    }
   ],
   "source": [
    "#k.\n",
    "print(\"proj(u,v):\", u.dot(v)*v / (np.linalg.norm(v)**2) )\n",
    "print(\"proj(u,v):\", [-9/35, -15/35, -3/35] )"
   ]
  },
  {
   "cell_type": "code",
   "execution_count": 13,
   "id": "00fd8cc4",
   "metadata": {},
   "outputs": [
    {
     "name": "stdout",
     "output_type": "stream",
     "text": [
      "proj(w,v): [0.68571429 1.14285714 0.22857143]\n",
      "proj(w,v): [0.6857142857142857, 1.1428571428571428, 0.22857142857142856]\n"
     ]
    }
   ],
   "source": [
    "#l.\n",
    "print(\"proj(w,v):\", w.dot(v)*v / (np.linalg.norm(v)**2) )\n",
    "print(\"proj(w,v):\", [24/35, 40/35, 8/35] )"
   ]
  },
  {
   "cell_type": "code",
   "execution_count": 14,
   "id": "736cb7ff",
   "metadata": {},
   "outputs": [
    {
     "name": "stdout",
     "output_type": "stream",
     "text": [
      "proj(u,w): [-1.71428571 -0.85714286  2.57142857]\n",
      "proj(w,v): [-1.7142857142857142, -0.8571428571428571, 2.5714285714285716]\n"
     ]
    }
   ],
   "source": [
    "#m.\n",
    "print(\"proj(u,w):\", u.dot(w)*w / (np.linalg.norm(w)**2) )\n",
    "print(\"proj(w,v):\", [-24/14, -12/14, 36/14] )"
   ]
  },
  {
   "cell_type": "markdown",
   "id": "e75b0b9c",
   "metadata": {},
   "source": [
    "# 2.L"
   ]
  },
  {
   "cell_type": "markdown",
   "id": "275aae08",
   "metadata": {},
   "source": [
    "2. Repeat problem 1 with the following column vectors:\n",
    "<br>\n",
    "\\begin{align}\n",
    "    \\textbf{u} &= \\begin{bmatrix}\n",
    "           1 \\\\\n",
    "           3 \\\\\n",
    "           -4\n",
    "         \\end{bmatrix}, \\textbf{v} = \\begin{bmatrix}\n",
    "           2 \\\\\n",
    "           1 \\\\\n",
    "           5\n",
    "         \\end{bmatrix}, \\textbf{w} = \\begin{bmatrix}\n",
    "           3 \\\\\n",
    "           -2 \\\\\n",
    "           6\n",
    "         \\end{bmatrix}\n",
    "  \\end{align}\n",
    "<br>\n",
    "<br>\n",
    "<br>"
   ]
  },
  {
   "cell_type": "markdown",
   "id": "9f000086",
   "metadata": {},
   "source": [
    "a. $3\\textbf{u}-2\\textbf{v}$<br>\n"
   ]
  },
  {
   "cell_type": "markdown",
   "id": "447f64bc",
   "metadata": {},
   "source": [
    "\n",
    "\\begin{aligned}\n",
    "a & =  3\\mathbf{u} - 2\\mathbf{v} \\\\\n",
    "& =  3\\begin{bmatrix} 1 \\\\ 3 \\\\ -4 \\end{bmatrix} - 2\\begin{bmatrix} 2 \\\\ 1 \\\\ 5 \\end{bmatrix} \\\\\n",
    "& =  \\begin{bmatrix} 3 \\\\ 9 \\\\ -12 \\end{bmatrix} - \\begin{bmatrix} 4 \\\\ 2 \\\\ 10 \\end{bmatrix} \\\\\n",
    "& =  \\begin{bmatrix} -1 \\\\ 7 \\\\ -22 \\end{bmatrix}\n",
    "\\end{aligned}\n",
    "\n"
   ]
  },
  {
   "cell_type": "markdown",
   "id": "511d74aa",
   "metadata": {},
   "source": [
    "b. $5\\textbf{u}+3\\textbf{v}-4\\textbf{w}$<br>\n"
   ]
  },
  {
   "cell_type": "markdown",
   "id": "523ec317",
   "metadata": {},
   "source": [
    "\\begin{aligned}\n",
    "b & = 5\\mathbf{u} + 3\\mathbf{v} - 4\\mathbf{w} \\\\\n",
    "& = 5\\begin{bmatrix} 1 \\\\ 3 \\\\ -4 \\end{bmatrix} + 3\\begin{bmatrix} 2 \\\\ 1 \\\\ 5 \\end{bmatrix} - 4\\begin{bmatrix} 3 \\\\ -2 \\\\ 6 \\end{bmatrix} \\\\\n",
    "& = \\begin{bmatrix} 5 \\\\ 15 \\\\ -20 \\end{bmatrix} + \\begin{bmatrix} 6 \\\\ 3 \\\\ 15 \\end{bmatrix} - \\begin{bmatrix} 12 \\\\ -8 \\\\ 24 \\end{bmatrix} \\\\\n",
    "b & = \\begin{bmatrix} -1 \\\\ 26 \\\\ -29 \\end{bmatrix}\n",
    "\\end{aligned}\n"
   ]
  },
  {
   "cell_type": "markdown",
   "id": "4e8dc3d6",
   "metadata": {},
   "source": [
    "c. $\\textbf{u} \\cdotp \\textbf{v}$,$\\textbf{v} \\cdotp \\textbf{w}$, $\\textbf{u} \\cdotp \\textbf{w}$<br>\n"
   ]
  },
  {
   "cell_type": "markdown",
   "id": "e25f7fd6",
   "metadata": {},
   "source": [
    "\\begin{equation}\n",
    "\\begin{aligned}\n",
    "\\mathbf{u} \\cdot \\mathbf{v} &  = \\begin{bmatrix} 1 \\\\ 3 \\\\ -4 \\end{bmatrix} \\cdot \\begin{bmatrix} 2 \\\\ 1 \\\\ 5 \\end{bmatrix} \\\\\n",
    "& = (1)(2) + (3)(1) + (-4)(5) \\\\\n",
    "& = 2 + 3 - 20 \\\\\n",
    "& = -15 \\\\\n",
    "\\mathbf{v} \\cdot \\mathbf{w} \n",
    "& = \\begin{bmatrix} 2 \\\\ 1 \\\\ 5 \\end{bmatrix} \\cdot \\begin{bmatrix} 3 \\\\ -2 \\\\ 6 \\end{bmatrix} \\\\\n",
    "& = (2)(3) + (1)(-2) + (5)(6) \\\\\n",
    "& = 6 - 2 + 30 \\\\\n",
    "& = 34 \\\\\n",
    "\\mathbf{u} \\cdot \\mathbf{w} \n",
    "& = \\begin{bmatrix} 1 \\\\ 3 \\\\ -4 \\end{bmatrix} \\cdot \\begin{bmatrix} 3 \\\\ -2 \\\\ 6 \\end{bmatrix} \\\\\n",
    "& = (1)(3) + (3)(-2) + (-4)(6) \\\\\n",
    "& = 3 - 6 - 24 \\\\\n",
    "& = -27 \\\\\n",
    "\\end{aligned}\n",
    "\\end{equation}\n"
   ]
  },
  {
   "cell_type": "markdown",
   "id": "f5be0fe7",
   "metadata": {},
   "source": [
    "d. $||\\textbf{u}||, ||\\textbf{v}||, ||\\textbf{w}||$<br>\n"
   ]
  },
  {
   "cell_type": "markdown",
   "id": "7374ba82",
   "metadata": {},
   "source": [
    "\\begin{aligned}\n",
    "||\\mathbf{u}|| & = \\sqrt{\\mathbf{u} \\cdot \\mathbf{u}} = \\sqrt{\\begin{bmatrix} 1 \\\\ 3 \\\\ -4 \\end{bmatrix} \\cdot \\begin{bmatrix} 1 \\\\ 3 \\\\ -4 \\end{bmatrix}} = \\sqrt{1^2 + 3^2 + (-4)^2} = \\sqrt{26} \\\\\n",
    "||\\mathbf{v}|| & = \\sqrt{\\mathbf{v} \\cdot \\mathbf{v}} = \\sqrt{\\begin{bmatrix} 2 \\\\ 1 \\\\ 5 \\end{bmatrix} \\cdot \\begin{bmatrix} 2 \\\\ 1 \\\\ 5 \\end{bmatrix}} = \\sqrt{2^2 + 1^2 + 5^2} = \\sqrt{30} \\\\\n",
    "||\\mathbf{w}|| & = \\sqrt{\\mathbf{w} \\cdot \\mathbf{w}} = \\sqrt{\\begin{bmatrix} 3 \\\\ -2 \\\\ 6 \\end{bmatrix} \\cdot \\begin{bmatrix} 3 \\\\ -2 \\\\ 6 \\end{bmatrix}} = \\sqrt{3^2 + (-2)^2 + 6^2} = \\sqrt{49} = 7\n",
    "\\end{aligned}\n"
   ]
  },
  {
   "cell_type": "markdown",
   "id": "af3baa9f",
   "metadata": {},
   "source": [
    "e. If $\\theta$ is the angle between $\\textbf{u}$  and   $\\textbf{v}$, find $\\cos{\\theta}$.<br>"
   ]
  },
  {
   "cell_type": "markdown",
   "id": "1642630d",
   "metadata": {},
   "source": [
    "\\begin{align*}\n",
    "\\cos(\\theta) & = \\frac{\\mathbf{u} \\cdot \\mathbf{v}}{{||\\mathbf{u}|| \\cdot ||\\mathbf{v}||}} \\\\\n",
    "& = \\frac{\\begin{bmatrix} 1 \\\\ 3 \\\\ -4 \\end{bmatrix} \\cdot \\begin{bmatrix} 2 \\\\ 1 \\\\ 5 \\end{bmatrix}}{{\\sqrt{\\begin{bmatrix} 1 \\\\ 3 \\\\ -4 \\end{bmatrix} \\cdot \\begin{bmatrix} 1 \\\\ 3 \\\\ -4 \\end{bmatrix}} \\cdot \\sqrt{\\begin{bmatrix} 2 \\\\ 1 \\\\ 5 \\end{bmatrix} \\cdot \\begin{bmatrix} 2 \\\\ 1 \\\\ 5 \\end{bmatrix}}}} \\\\\n",
    "& = \\frac{1(2) + 3(1) + (-4)(5)}{{\\sqrt{1^2 + 3^2 + (-4)^2} \\cdot \\sqrt{2^2 + 1^2 + 5^2}}} \\\\\n",
    "& = \\frac{2 + 3 - 20}{{\\sqrt{26} \\cdot \\sqrt{30}}} \\\\\n",
    "& = \\frac{-15}{{\\sqrt{26} \\cdot \\sqrt{30}}}\n",
    "\\end{align*}\n"
   ]
  },
  {
   "cell_type": "markdown",
   "id": "28f87eb6",
   "metadata": {},
   "source": [
    "f. If $\\alpha$ is the angle between $\\textbf{v}$  and   $\\textbf{w}$, find $\\cos{\\alpha}$.<br>\n"
   ]
  },
  {
   "cell_type": "markdown",
   "id": "a094488d",
   "metadata": {},
   "source": [
    "\\begin{align*}\n",
    "\\cos(\\alpha) & = \\frac{\\mathbf{v} \\cdot \\mathbf{w}}{{||\\mathbf{v}|| \\cdot ||\\mathbf{w}||}} \\\\\n",
    "& = \\frac{\\begin{bmatrix} 2 \\\\ 1 \\\\ 5 \\end{bmatrix} \\cdot \\begin{bmatrix} 3 \\\\ -2 \\\\ 6 \\end{bmatrix}}{{\\sqrt{\\begin{bmatrix} 2 \\\\ 1 \\\\ 5 \\end{bmatrix} \\cdot \\begin{bmatrix} 2 \\\\ 1 \\\\ 5 \\end{bmatrix}} \\cdot \\sqrt{\\begin{bmatrix} 3 \\\\ -2 \\\\ 6 \\end{bmatrix} \\cdot \\begin{bmatrix} 3 \\\\ -2 \\\\ 6 \\end{bmatrix}}}} \\\\\n",
    "& = \\frac{3(2) + 1(-2) + 5(6)}{{\\sqrt{2^2 + 1^2 + 5^2} \\cdot \\sqrt{3^2 + (-2)^2 + 6^2}}} \\\\\n",
    "& = \\frac{6 - 2 + 30}{{\\sqrt{30} \\cdot \\sqrt{49}}} \\\\\n",
    "& = \\frac{34}{{\\sqrt{30} \\cdot 7}} \\\\\n",
    "& = \\frac{34}{7\\sqrt{30}}\n",
    "\\end{align*}\n"
   ]
  },
  {
   "cell_type": "markdown",
   "id": "f891c4ed",
   "metadata": {},
   "source": [
    "g. If $\\beta$ is the angle between $\\textbf{u}$  and   $\\textbf{w}$, find $\\cos{\\beta}$.<br>\n"
   ]
  },
  {
   "cell_type": "markdown",
   "id": "91464936",
   "metadata": {},
   "source": [
    "\\begin{align*}\n",
    "\\cos(\\beta) & = \\frac{\\mathbf{u} \\cdot \\mathbf{w}}{{||\\mathbf{u}|| \\cdot ||\\mathbf{w}||}} \\\\\n",
    "& = \\frac{\\begin{bmatrix} 1 \\\\ 3 \\\\ -4 \\end{bmatrix} \\cdot \\begin{bmatrix} 3 \\\\ -2 \\\\ 6 \\end{bmatrix}}{{\\sqrt{\\begin{bmatrix} 1 \\\\ 3 \\\\ -4 \\end{bmatrix} \\cdot \\begin{bmatrix} 1 \\\\ 3 \\\\ -4 \\end{bmatrix}} \\cdot \\sqrt{\\begin{bmatrix} 3 \\\\ -2 \\\\ 6 \\end{bmatrix} \\cdot \\begin{bmatrix} 3 \\\\ -2 \\\\ 6 \\end{bmatrix}}}} \\\\\n",
    "& = \\frac{1(3) + 3(-2) + (-4)(6)}{{\\sqrt{1^2 + 3^2 + (-4)^2} \\cdot \\sqrt{3^2 + (-2)^2 + 6^2}}} \\\\\n",
    "& = \\frac{3 - 6 - 24}{{\\sqrt{26} \\cdot \\sqrt{49}}} \\\\\n",
    "& = \\frac{-27}{{\\sqrt{26} \\cdot 7}} \\\\\n",
    "& = \\frac{-27}{7\\sqrt{26}}\n",
    "\\end{align*}\n"
   ]
  },
  {
   "cell_type": "markdown",
   "id": "d31c8aa8",
   "metadata": {},
   "source": [
    "h. Find $d(\\textbf{u},\\textbf{v})$.<br>"
   ]
  },
  {
   "cell_type": "markdown",
   "id": "eaf2d908",
   "metadata": {},
   "source": [
    "\\begin{align*}\n",
    "d(\\mathbf{u}, \\mathbf{v}) & = ||\\mathbf{u} - \\mathbf{v}|| \\\\\n",
    "& = \\sqrt{\\begin{bmatrix} 1 \\\\ 3 \\\\ -4 \\end{bmatrix} - \\begin{bmatrix} 2 \\\\ 1 \\\\ 5 \\end{bmatrix}} \\\\\n",
    "& = \\sqrt{\\begin{bmatrix} 1-2 \\\\ 3-1 \\\\ -4-5 \\end{bmatrix}} \\\\\n",
    "& = \\sqrt{\\begin{bmatrix} -1 \\\\ 2 \\\\ -9 \\end{bmatrix}} \\\\\n",
    "& = \\sqrt{(-1)^2 + 2^2 + (-9)^2} \\\\\n",
    "& = \\sqrt{1 + 4 + 81} \\\\\n",
    "& = \\sqrt{86}\n",
    "\\end{align*}\n"
   ]
  },
  {
   "cell_type": "markdown",
   "id": "5e39d051",
   "metadata": {},
   "source": [
    "i. Find $d(\\textbf{w},\\textbf{v})$.<br>\n"
   ]
  },
  {
   "cell_type": "markdown",
   "id": "20d2eaf1",
   "metadata": {},
   "source": [
    "\\begin{align*}\n",
    "d(\\mathbf{w}, \\mathbf{v}) & = ||\\mathbf{w} - \\mathbf{v}|| \\\\\n",
    "& = \\sqrt{\\begin{bmatrix} 3 \\\\ -2 \\\\ 6 \\end{bmatrix} - \\begin{bmatrix} 2 \\\\ 1 \\\\ 5 \\end{bmatrix}} \\\\\n",
    "& = \\sqrt{\\begin{bmatrix} 3-2 \\\\ -2-1 \\\\ 6-5 \\end{bmatrix}} \\\\\n",
    "& = \\sqrt{\\begin{bmatrix} 1 \\\\ -3 \\\\ 1 \\end{bmatrix}} \\\\\n",
    "& = \\sqrt{1^2 + (-3)^2 + 1^2} \\\\\n",
    "& = \\sqrt{1 + 9 + 1} \\\\\n",
    "& = \\sqrt{11}\n",
    "\\end{align*}"
   ]
  },
  {
   "cell_type": "markdown",
   "id": "cd0da7a3",
   "metadata": {},
   "source": [
    "j. Find $d(\\textbf{u},\\textbf{w})$. <br>"
   ]
  },
  {
   "cell_type": "markdown",
   "id": "f2eec8a6",
   "metadata": {},
   "source": [
    "\\begin{align*}\n",
    "d(\\mathbf{u}, \\mathbf{w}) & = ||\\mathbf{u} - \\mathbf{w}|| \\\\\n",
    "& = \\sqrt{\\begin{bmatrix} 1 \\\\ 3 \\\\ -4 \\end{bmatrix} - \\begin{bmatrix} 3 \\\\ -2 \\\\ 6 \\end{bmatrix}} \\\\\n",
    "& = \\sqrt{\\begin{bmatrix} 1-3 \\\\ 3-(-2) \\\\ -4-6 \\end{bmatrix}} \\\\\n",
    "& = \\sqrt{\\begin{bmatrix} -2 \\\\ 5 \\\\ -10 \\end{bmatrix}} \\\\\n",
    "& = \\sqrt{(-2)^2 + 5^2 + (-10)^2} \\\\\n",
    "& = \\sqrt{4 + 25 + 100} \\\\\n",
    "& = \\sqrt{129}\n",
    "\\end{align*}"
   ]
  },
  {
   "cell_type": "markdown",
   "id": "8d47efde",
   "metadata": {},
   "source": [
    "k. Find $proj(\\textbf{u},\\textbf{v})$.<br>"
   ]
  },
  {
   "cell_type": "markdown",
   "id": "c5e58792",
   "metadata": {},
   "source": [
    "\\begin{align*}\n",
    "\\textbf{proj}(\\textbf{u}, \\textbf{v}) & = \\frac{\\textbf{u} \\cdot \\textbf{v}}{{\\|\\textbf{v}\\|^2}} \\textbf{v} \\\\\n",
    "& = \\frac{-15}{30} \\begin{bmatrix} 2 \\\\ 1 \\\\ 5 \\end{bmatrix} \\\\\n",
    "& = \\begin{bmatrix} \\frac{-1}{2} \\\\ \\frac{-1}{2} \\\\ \\frac{-5}{2} \\end{bmatrix}\n",
    "\\end{align*}\n"
   ]
  },
  {
   "cell_type": "markdown",
   "id": "650e93dd",
   "metadata": {},
   "source": [
    "l. Find $proj(\\textbf{w},\\textbf{v})$.<br>"
   ]
  },
  {
   "cell_type": "markdown",
   "id": "56b5b0b7",
   "metadata": {},
   "source": [
    "\\begin{align*}\n",
    "\\textbf{proj}(\\textbf{w},\\textbf{v}) & = \\frac{\\textbf{w} \\cdot \\textbf{v}}{{\\|\\textbf{v}\\|^2}}\\textbf{v} \\\\\n",
    "& = \\frac{8}{{(\\sqrt{35})^2}}\\begin{bmatrix} 3 \\\\ 5 \\\\ 1 \\end{bmatrix} \\\\\n",
    "& = \\begin{bmatrix} \\frac{24}{35} \\\\ \\frac{8}{7} \\\\ \\frac{8}{35} \\end{bmatrix}\n",
    "\\end{align*}\n"
   ]
  },
  {
   "cell_type": "markdown",
   "id": "838a6e21",
   "metadata": {},
   "source": [
    "m. Find $proj(\\textbf{u},\\textbf{w})$. <br>  "
   ]
  },
  {
   "cell_type": "markdown",
   "id": "85a9826c",
   "metadata": {},
   "source": [
    "\\begin{align*}\n",
    "\\textbf{proj}(\\textbf{u},\\textbf{w}) & = \\frac{\\textbf{u} \\cdot \\textbf{w}}{{\\|\\textbf{w}\\|^2}}\\textbf{w} \\\\\n",
    "& = \\frac{-27}{{(\\sqrt{49})^2}}\\begin{bmatrix}\n",
    "    3 \\\\\n",
    "    -2 \\\\\n",
    "    6 \\\\\n",
    "\\end{bmatrix} \\\\\n",
    "& = \\begin{bmatrix}\n",
    "    \\frac{-81}{49} \\\\\n",
    "    \\frac{54}{49} \\\\\n",
    "    \\frac{-162}{49} \\\\\n",
    "\\end{bmatrix}\n",
    "\\end{align*}\n"
   ]
  },
  {
   "cell_type": "markdown",
   "id": "ab180cc1",
   "metadata": {},
   "source": [
    "# 2.P"
   ]
  },
  {
   "cell_type": "code",
   "execution_count": 15,
   "id": "bad1c679",
   "metadata": {},
   "outputs": [],
   "source": [
    "# Setting UP #\n",
    "import numpy as np\n",
    "\n",
    "# Let \n",
    "u = np.array([1,3,-4])\n",
    "v = np.array([2,1,5])\n",
    "w = np.array([3,-2,6])"
   ]
  },
  {
   "cell_type": "code",
   "execution_count": 16,
   "id": "858d71e7",
   "metadata": {},
   "outputs": [
    {
     "name": "stdout",
     "output_type": "stream",
     "text": [
      "3u-2v: [ -1   7 -22]\n"
     ]
    }
   ],
   "source": [
    "#a.\n",
    "print(\"3u-2v:\", (3*u) - (2*v))"
   ]
  },
  {
   "cell_type": "code",
   "execution_count": 17,
   "id": "664fe3e3",
   "metadata": {},
   "outputs": [
    {
     "name": "stdout",
     "output_type": "stream",
     "text": [
      "5u + 3v - 4w: [ -1  26 -29]\n"
     ]
    }
   ],
   "source": [
    "#b.\n",
    "print(\"5u + 3v - 4w:\", (5*u) + (3*v) - (4*w))"
   ]
  },
  {
   "cell_type": "code",
   "execution_count": 18,
   "id": "9f6d2ef6",
   "metadata": {},
   "outputs": [
    {
     "name": "stdout",
     "output_type": "stream",
     "text": [
      "u.v = -15\n",
      "v.w = 34\n",
      "u.w = -27\n"
     ]
    }
   ],
   "source": [
    "#c.\n",
    "print(\"u.v =\", u.dot(v))\n",
    "print(\"v.w =\", v.dot(w))\n",
    "print(\"u.w =\", u.dot(w))\n"
   ]
  },
  {
   "cell_type": "code",
   "execution_count": 19,
   "id": "250a978c",
   "metadata": {},
   "outputs": [
    {
     "name": "stdout",
     "output_type": "stream",
     "text": [
      "||u|| = 5.0990195135927845\n",
      "||v|| = 5.477225575051661\n",
      "||w|| = 7.0\n"
     ]
    }
   ],
   "source": [
    "#d.\n",
    "print(\"||u|| =\",np.sqrt(u.dot(u)))\n",
    "print(\"||v|| =\",np.sqrt(v.dot(v)))\n",
    "print(\"||w|| =\",np.sqrt(w.dot(w)))"
   ]
  },
  {
   "cell_type": "code",
   "execution_count": 20,
   "id": "49936f0a",
   "metadata": {},
   "outputs": [
    {
     "name": "stdout",
     "output_type": "stream",
     "text": [
      "angle: -0.5370861555295747\n"
     ]
    }
   ],
   "source": [
    "#e.\n",
    "print(\"angle:\", u.dot(v) / (np.linalg.norm(u) * np.linalg.norm(v)))"
   ]
  },
  {
   "cell_type": "code",
   "execution_count": 21,
   "id": "01c8fed4",
   "metadata": {},
   "outputs": [
    {
     "name": "stdout",
     "output_type": "stream",
     "text": [
      "angle: 0.8867889026274118\n"
     ]
    }
   ],
   "source": [
    "#f.\n",
    "print(\"angle:\", v.dot(w) / (np.linalg.norm(v) * np.linalg.norm(w)))"
   ]
  },
  {
   "cell_type": "code",
   "execution_count": 22,
   "id": "a6a870dd",
   "metadata": {},
   "outputs": [
    {
     "name": "stdout",
     "output_type": "stream",
     "text": [
      "angle: -0.7564479498187099\n"
     ]
    }
   ],
   "source": [
    "#g.\n",
    "print(\"angle:\", u.dot(w) / (np.linalg.norm(u) * np.linalg.norm(w)))"
   ]
  },
  {
   "cell_type": "code",
   "execution_count": 23,
   "id": "e84f3de6",
   "metadata": {},
   "outputs": [
    {
     "name": "stdout",
     "output_type": "stream",
     "text": [
      "d(u,v): 9.273618495495704\n"
     ]
    }
   ],
   "source": [
    "#h.\n",
    "print(\"d(u,v):\", np.linalg.norm(u-v))"
   ]
  },
  {
   "cell_type": "code",
   "execution_count": 24,
   "id": "0fc6f6ea",
   "metadata": {},
   "outputs": [
    {
     "name": "stdout",
     "output_type": "stream",
     "text": [
      "d(w,v): 3.3166247903554\n"
     ]
    }
   ],
   "source": [
    "#i.\n",
    "print(\"d(w,v):\", np.linalg.norm(w-v))"
   ]
  },
  {
   "cell_type": "code",
   "execution_count": 25,
   "id": "bbb43d79",
   "metadata": {},
   "outputs": [
    {
     "name": "stdout",
     "output_type": "stream",
     "text": [
      "d(u,w): 11.357816691600547\n"
     ]
    }
   ],
   "source": [
    "#j.\n",
    "print(\"d(u,w):\", np.linalg.norm(u-w))"
   ]
  },
  {
   "cell_type": "code",
   "execution_count": 26,
   "id": "0935789c",
   "metadata": {},
   "outputs": [
    {
     "name": "stdout",
     "output_type": "stream",
     "text": [
      "proj(u,v): [-1.  -0.5 -2.5]\n",
      "proj(u,v): [-1.0, -0.5, -2.5]\n"
     ]
    }
   ],
   "source": [
    "#k.\n",
    "print(\"proj(u,v):\", u.dot(v)*v / (np.linalg.norm(v)**2) )\n",
    "print(\"proj(u,v):\", [-2/2, -1/2, -5/2])"
   ]
  },
  {
   "cell_type": "code",
   "execution_count": 27,
   "id": "8bc7f58c",
   "metadata": {},
   "outputs": [
    {
     "name": "stdout",
     "output_type": "stream",
     "text": [
      "proj(w,v): [2.26666667 1.13333333 5.66666667]\n",
      "proj(w,v): [2.2666666666666666, 1.1333333333333333, 5.666666666666667]\n"
     ]
    }
   ],
   "source": [
    "#l.\n",
    "print(\"proj(w,v):\", w.dot(v)*v / (np.linalg.norm(v)**2) )\n",
    "print(\"proj(w,v):\", [34/15, 17/15, 17/3])"
   ]
  },
  {
   "cell_type": "code",
   "execution_count": 28,
   "id": "414a0bb3",
   "metadata": {},
   "outputs": [
    {
     "name": "stdout",
     "output_type": "stream",
     "text": [
      "proj(u,w): [-1.65306122  1.10204082 -3.30612245]\n",
      "proj(w,v): [-1.653061224489796, 1.1020408163265305, -3.306122448979592]\n"
     ]
    }
   ],
   "source": [
    "#m.\n",
    "print(\"proj(u,w):\", u.dot(w)*w / (np.linalg.norm(w)**2) )\n",
    "print(\"proj(w,v):\", [-81/49, 54/49, -162/49])"
   ]
  },
  {
   "cell_type": "markdown",
   "id": "2380409c",
   "metadata": {},
   "source": [
    "# 3.L"
   ]
  },
  {
   "cell_type": "markdown",
   "id": "278744ad",
   "metadata": {},
   "source": [
    "3. Let $\\textbf{u} = (2,-5,4,6,-3)$, $\\textbf{v} = (5,-2,1,-7,-4)$, and $\\textbf{w} = (2,1,-3)$ find:<br>\n"
   ]
  },
  {
   "cell_type": "markdown",
   "id": "54d1ed51",
   "metadata": {},
   "source": [
    "a. $4\\textbf{u}-3\\textbf{v}$<br>\n"
   ]
  },
  {
   "cell_type": "markdown",
   "id": "538facb6",
   "metadata": {},
   "source": [
    "\\begin{align*}\n",
    "4\\textbf{u} - 3\\textbf{v} & = [4(2) - 3(5),\\space 4(-5) - 3(-2),\\space 4(4) - 3(1),\\space 4(6) - 3(-7),\\space 4(-3) - 3(-4)] \\\\\n",
    "& = [-7, -14, 13, 45, 0]\n",
    "\\end{align*}\n"
   ]
  },
  {
   "cell_type": "markdown",
   "id": "6142e4ff",
   "metadata": {},
   "source": [
    "b. $5\\textbf{u}+2\\textbf{v}-2\\textbf{w}$<br>\n"
   ]
  },
  {
   "cell_type": "markdown",
   "id": "187acec2",
   "metadata": {},
   "source": [
    "\\begin{align*}\n",
    "\\textbf{5u} + \\textbf{2v} - \\textbf{2w} & = [5(2) + 2(5) - 2(2),\\space 5(-5) + 2(-2) - 2(1),\\space 5(4) + 2(1) - 2(-3),\\space 5(6) + 2(-7),\\space 5(-3) + 2(-4)] \\\\\n",
    "& = [16, -31, 28, \\not{16}, \\not{-23}]\n",
    "\\end{align*}\n"
   ]
  },
  {
   "cell_type": "markdown",
   "id": "1ef8ad9d",
   "metadata": {},
   "source": [
    "c. $\\textbf{u} \\cdotp \\textbf{v}$,$\\textbf{v} \\cdotp \\textbf{w}$, $\\textbf{u} \\cdotp \\textbf{w}$<br>\n"
   ]
  },
  {
   "cell_type": "markdown",
   "id": "772cf4a2",
   "metadata": {},
   "source": [
    "\\begin{align*}\n",
    "\\textbf{u} \\cdot \\textbf{v} & = 2(5) + (-5)(-2) + 4(1) + 6(-7) + (-3)(-4) \\\\\n",
    "& = -6 \\\\\n",
    "\\textbf{v} \\cdot \\textbf{w} & = 5(2) + (-2)(1) + 1(-3) \\\\\n",
    "& = 5 \\\\\n",
    "\\textbf{u} \\cdot \\textbf{w} & = 2(2) + (-2)(-5) + 4(-3) \\\\\n",
    "& = -13\n",
    "\\end{align*}\n"
   ]
  },
  {
   "cell_type": "markdown",
   "id": "63bf1894",
   "metadata": {},
   "source": [
    "d. ||$\\textbf{u}$||, ||$\\textbf{v}$||, ||$\\textbf{w}$||<br>\n"
   ]
  },
  {
   "cell_type": "markdown",
   "id": "be9f0015",
   "metadata": {},
   "source": [
    "\\begin{align*}\n",
    "||\\textbf{u}|| & = \\sqrt{\\textbf{u} \\cdot \\textbf{u}} = \\sqrt{2^{2} + (-5)^{2} + 4^{2} + 6^{2} + (-3)^{2}} = 3\\sqrt{10}  \\\\\n",
    "||\\textbf{v}|| & = \\sqrt{\\textbf{v} \\cdot \\textbf{v}} = \\sqrt{5^{2} + (-2)^{2} + 1^{2} + (-7)^{2} + (-4)^{2}} = \\sqrt{95}  \\\\\n",
    "||\\textbf{w}|| & = \\sqrt{\\textbf{w} \\cdot \\textbf{w}} = \\sqrt{2^{2} + 1^{2} + (-3)^{2}} = \\sqrt{14} \n",
    "\\end{align*}\n"
   ]
  },
  {
   "cell_type": "markdown",
   "id": "9f943046",
   "metadata": {},
   "source": [
    "e. If $\\theta$ is the angle between $\\textbf{u}$  and   $\\textbf{v}$, find $\\cos{\\theta}$.<br>\n"
   ]
  },
  {
   "cell_type": "markdown",
   "id": "1b95e34f",
   "metadata": {},
   "source": [
    "\\begin{align*}\n",
    "\\cos(\\theta) &= \\frac{\\mathbf{u} \\cdot \\mathbf{v}}{||\\mathbf{u}|| \\ ||\\mathbf{v}||} \\\\\n",
    "&= \\frac{-6}{\\sqrt{90} \\sqrt{95}}\n",
    "\\end{align*}\n"
   ]
  },
  {
   "cell_type": "markdown",
   "id": "b64099b0",
   "metadata": {},
   "source": [
    "f. If $\\alpha$ is the angle between $\\textbf{v}$  and   $\\textbf{w}$, find $\\cos{\\alpha}$.<br>\n"
   ]
  },
  {
   "cell_type": "markdown",
   "id": "326e1e41",
   "metadata": {},
   "source": [
    "\\begin{align*}\n",
    "\\cos{\\alpha} & = \\frac{\\textbf{v} \\cdot \\textbf{w}}{{||\\textbf{v}|| \\cdot ||\\textbf{w}||}} \\\\\n",
    "& = \\frac{5(2) + (-2)(1) + 1(-3)}{\\sqrt{5^{2} + (-2)^{2} + 1^{2} + (-7)^{2} + (-4)^{2}} \\sqrt{2^{2} + 1^{2} + (-3)^{2}}} \\\\\n",
    "& = \\frac{5}{\\sqrt{95} \\sqrt{14}} \\approx 0.14\n",
    "\\end{align*}\n"
   ]
  },
  {
   "cell_type": "markdown",
   "id": "f735bc54",
   "metadata": {},
   "source": [
    "g. If $\\beta$ is the angle between $\\textbf{u}$  and   $\\textbf{w}$, find $\\cos{\\beta}$.<br>\n"
   ]
  },
  {
   "cell_type": "markdown",
   "id": "4be714e0",
   "metadata": {},
   "source": [
    "\\begin{align*}\n",
    "\\cos(\\beta) &= \\frac{\\mathbf{u} \\cdot \\mathbf{w}}{||\\mathbf{u}|| \\ ||\\mathbf{w}||} \\\\\n",
    "&= \\frac{-13}{\\sqrt{90} \\sqrt{14}}\n",
    "\\end{align*}\n"
   ]
  },
  {
   "cell_type": "markdown",
   "id": "8ec252d5",
   "metadata": {},
   "source": [
    "h. Find $d(\\textbf{u},\\textbf{v})$.<br>\n"
   ]
  },
  {
   "cell_type": "markdown",
   "id": "64662be4",
   "metadata": {},
   "source": [
    "\\begin{align*}\n",
    "d(\\mathbf{u},\\mathbf{v}) & = ||\\mathbf{u} - \\mathbf{v}|| \\\\\n",
    "&= \\sqrt{(2-5)^2 + ((-5)-(-2))^2 + (4-1)^2 + (6-(-7))^2 + ((-3)-(-4))^2} \\\\\n",
    "&= \\sqrt{197} \n",
    "\\end{align*}\n"
   ]
  },
  {
   "cell_type": "markdown",
   "id": "f59b04d9",
   "metadata": {},
   "source": [
    "i. Find $d(\\textbf{w},\\textbf{v})$.<br>\n"
   ]
  },
  {
   "cell_type": "markdown",
   "id": "ce12b7fb",
   "metadata": {},
   "source": [
    "\\begin{align*}\n",
    "d(w,v) &= ||w - v|| \\\\\n",
    "&= \\sqrt{(2-5)^2 + (1+2)^2 + (-3-1)^2 + (0+7)^2 + (0+4)^2} \\\\\n",
    "&= \\sqrt{(-3)^2 + (3)^2 + (-4)^2 + 7^2 + 4^2} \\\\\n",
    "&= \\sqrt{9 + 9 + 16 + 49 + 16} \\\\\n",
    "&= \\sqrt{99}\n",
    "\\end{align*}\n"
   ]
  },
  {
   "cell_type": "markdown",
   "id": "e0cb24cb",
   "metadata": {},
   "source": [
    "j. Find $d(\\textbf{u},\\textbf{w})$. <br>\n"
   ]
  },
  {
   "cell_type": "markdown",
   "id": "7b303fbd",
   "metadata": {},
   "source": [
    "\\begin{align*}\n",
    "d(u, w) &= ||u - w|| \\\\\n",
    "&= \\sqrt{(2 - 2)^2 + (-5 - 1)^2 + (4 + 3)^2 + (6 - 0)^2 + (-3 - 0)^2} \\\\\n",
    "&= \\sqrt{(0)^2 + (-6)^2 + (7)^2 + 6^2 + (-3)^2} \\\\\n",
    "&= \\sqrt{0 + 36 + 49 + 36 + 9} \\\\\n",
    "&= \\sqrt{130}\n",
    "\\end{align*}\n"
   ]
  },
  {
   "cell_type": "markdown",
   "id": "c13e6152",
   "metadata": {},
   "source": [
    "k. Find $proj(\\textbf{u},\\textbf{v})$.<br>\n"
   ]
  },
  {
   "cell_type": "markdown",
   "id": "40dd1a86",
   "metadata": {},
   "source": [
    "\\begin{align*}\n",
    "proj(u, v) &= \\frac{u \\cdot v}{||v||^2} v \\\\\n",
    "&= \\frac{-6}{95}(5, -2, 1, -7, -4) \\\\\n",
    "&= \\left(\\frac{-30}{95}, \\frac{12}{95}, \\frac{-6}{95}, \\frac{42}{95}, \\frac{24}{95}\\right)\n",
    "\\end{align*}\n"
   ]
  },
  {
   "cell_type": "markdown",
   "id": "21a00131",
   "metadata": {},
   "source": [
    "l. Find $proj(\\textbf{w},\\textbf{v})$.<br>\n"
   ]
  },
  {
   "cell_type": "markdown",
   "id": "71fbb073",
   "metadata": {},
   "source": [
    "\\begin{align*}\n",
    "proj(w, v) &= \\frac{w \\cdot v}{||v||^2} v \\\\\n",
    "&= \\frac{5}{95}(5, -2, 1, -7, -4) \\\\\n",
    "&= \\left(\\frac{25}{95}, \\frac{-10}{95}, \\frac{5}{95}, \\frac{-35}{95}, \\frac{-20}{95}\\right)\n",
    "\\end{align*}\n"
   ]
  },
  {
   "cell_type": "markdown",
   "id": "6bff36b5",
   "metadata": {},
   "source": [
    "m. Find $proj(\\textbf{u},\\textbf{w})$. <br> "
   ]
  },
  {
   "cell_type": "markdown",
   "id": "002f282f",
   "metadata": {},
   "source": [
    "\\begin{align*}\n",
    "proj(u, w) &= \\frac{u \\cdot w}{||w||^2} w \\\\\n",
    "&= \\frac{-13}{14}(2, 1, -3) \\\\\n",
    "&= \\left(\\frac{-26}{14}, \\frac{-13}{14}, \\frac{39}{14}\\right)\n",
    "\\end{align*}\n"
   ]
  },
  {
   "cell_type": "markdown",
   "id": "10b6bf14",
   "metadata": {},
   "source": [
    "# 3.P"
   ]
  },
  {
   "cell_type": "code",
   "execution_count": 29,
   "id": "7a95d66c",
   "metadata": {},
   "outputs": [],
   "source": [
    "# Setting UP #\n",
    "import numpy as np\n",
    "\n",
    "# Let \n",
    "u = np.array([2,-5,4,6,-3])\n",
    "v = np.array([5,-2,1,-7,-4])\n",
    "w = np.array([2,1,-3, 0,0])"
   ]
  },
  {
   "cell_type": "code",
   "execution_count": 30,
   "id": "d8c86b03",
   "metadata": {},
   "outputs": [
    {
     "name": "stdout",
     "output_type": "stream",
     "text": [
      "4u - 3v: [ -7 -14  13  45   0]\n"
     ]
    }
   ],
   "source": [
    "#a.\n",
    "print(\"4u - 3v:\", (4*u) - (3*v))"
   ]
  },
  {
   "cell_type": "code",
   "execution_count": 31,
   "id": "2fd75574",
   "metadata": {},
   "outputs": [
    {
     "name": "stdout",
     "output_type": "stream",
     "text": [
      "5u + 2v - 2w: [ 16 -31  28  16 -23]\n"
     ]
    }
   ],
   "source": [
    "#b.\n",
    "print(\"5u + 2v - 2w:\", (5*u) + (2*v) - (2*w))"
   ]
  },
  {
   "cell_type": "code",
   "execution_count": 32,
   "id": "ce41f7f2",
   "metadata": {},
   "outputs": [
    {
     "name": "stdout",
     "output_type": "stream",
     "text": [
      "u.v = -6\n",
      "v.w = 5\n",
      "u.w = -13\n"
     ]
    }
   ],
   "source": [
    "#c.\n",
    "print(\"u.v =\", u.dot(v))\n",
    "print(\"v.w =\", v.dot(w))\n",
    "print(\"u.w =\", u.dot(w))"
   ]
  },
  {
   "cell_type": "code",
   "execution_count": 33,
   "id": "53efdaf8",
   "metadata": {},
   "outputs": [
    {
     "name": "stdout",
     "output_type": "stream",
     "text": [
      "||u|| = 9.486832980505138\n",
      "||v|| = 9.746794344808963\n",
      "||w|| = 3.7416573867739413\n"
     ]
    }
   ],
   "source": [
    "#d.\n",
    "print(\"||u|| =\",np.sqrt(u.dot(u)))\n",
    "print(\"||v|| =\",np.sqrt(v.dot(v)))\n",
    "print(\"||w|| =\",np.sqrt(w.dot(w)))"
   ]
  },
  {
   "cell_type": "code",
   "execution_count": 34,
   "id": "3a422fa6",
   "metadata": {},
   "outputs": [
    {
     "name": "stdout",
     "output_type": "stream",
     "text": [
      "angle: -0.06488856845230502\n"
     ]
    }
   ],
   "source": [
    "#e.\n",
    "print(\"angle:\", u.dot(v) / (np.linalg.norm(u) * np.linalg.norm(v)))"
   ]
  },
  {
   "cell_type": "code",
   "execution_count": 35,
   "id": "12e6a8a0",
   "metadata": {},
   "outputs": [
    {
     "name": "stdout",
     "output_type": "stream",
     "text": [
      "angle: 0.13710212427677046\n"
     ]
    }
   ],
   "source": [
    "#f.\n",
    "print(\"angle:\", v.dot(w) / (np.linalg.norm(v) * np.linalg.norm(w)))"
   ]
  },
  {
   "cell_type": "code",
   "execution_count": 36,
   "id": "16d8290c",
   "metadata": {},
   "outputs": [
    {
     "name": "stdout",
     "output_type": "stream",
     "text": [
      "angle: -0.3662335103823572\n"
     ]
    }
   ],
   "source": [
    "#g.\n",
    "print(\"angle:\", u.dot(w) / (np.linalg.norm(u) * np.linalg.norm(w)))"
   ]
  },
  {
   "cell_type": "code",
   "execution_count": 37,
   "id": "4463de23",
   "metadata": {},
   "outputs": [
    {
     "name": "stdout",
     "output_type": "stream",
     "text": [
      "d(u,v): 14.035668847618199\n"
     ]
    }
   ],
   "source": [
    "#h.\n",
    "print(\"d(u,v):\", np.linalg.norm(u-v))"
   ]
  },
  {
   "cell_type": "code",
   "execution_count": 38,
   "id": "b85b36d9",
   "metadata": {},
   "outputs": [
    {
     "name": "stdout",
     "output_type": "stream",
     "text": [
      "d(w,v): 9.9498743710662\n"
     ]
    }
   ],
   "source": [
    "#i.\n",
    "print(\"d(w,v):\", np.linalg.norm(w-v))"
   ]
  },
  {
   "cell_type": "code",
   "execution_count": 39,
   "id": "c6b15e9d",
   "metadata": {},
   "outputs": [
    {
     "name": "stdout",
     "output_type": "stream",
     "text": [
      "d(u,w): 11.40175425099138\n"
     ]
    }
   ],
   "source": [
    "#j.\n",
    "print(\"d(u,w):\", np.linalg.norm(u-w))"
   ]
  },
  {
   "cell_type": "code",
   "execution_count": 40,
   "id": "58188409",
   "metadata": {},
   "outputs": [
    {
     "name": "stdout",
     "output_type": "stream",
     "text": [
      "proj(u,v): [-0.31578947  0.12631579 -0.06315789  0.44210526  0.25263158]\n",
      "proj(u,v): [-0.3157894736842105, 0.12631578947368421, -0.06315789473684211, 0.4421052631578947, 0.25263157894736843]\n"
     ]
    }
   ],
   "source": [
    "#k.\n",
    "print(\"proj(u,v):\", u.dot(v)*v / (np.linalg.norm(v)**2) )\n",
    "print(\"proj(u,v):\", [-30/95, 12/95, -6/95, 42/95, 24/95] )"
   ]
  },
  {
   "cell_type": "code",
   "execution_count": 41,
   "id": "aae1bbcb",
   "metadata": {},
   "outputs": [
    {
     "name": "stdout",
     "output_type": "stream",
     "text": [
      "proj(w,v): [ 0.26315789 -0.10526316  0.05263158 -0.36842105 -0.21052632]\n",
      "proj(w,v): [0.2631578947368421, -0.10526315789473684, 0.05263157894736842, -0.3684210526315789, -0.21052631578947367]\n"
     ]
    }
   ],
   "source": [
    "#l.\n",
    "print(\"proj(w,v):\", w.dot(v)*v / (np.linalg.norm(v)**2) )\n",
    "print(\"proj(w,v):\", [25/95, -10/95, 5/95, -35/95, -20/95] )"
   ]
  },
  {
   "cell_type": "code",
   "execution_count": 42,
   "id": "76510e78",
   "metadata": {},
   "outputs": [
    {
     "name": "stdout",
     "output_type": "stream",
     "text": [
      "proj(u,w): [-1.85714286 -0.92857143  2.78571429  0.          0.        ]\n",
      "proj(w,v): [-1.8571428571428572, -0.9285714285714286, 2.7857142857142856]\n"
     ]
    }
   ],
   "source": [
    "#m.\n",
    "print(\"proj(u,w):\", u.dot(w)*w / (np.linalg.norm(w)**2) )\n",
    "print(\"proj(w,v):\", [-26/14, -13/14, 39/14] )"
   ]
  },
  {
   "cell_type": "markdown",
   "id": "f0f19678",
   "metadata": {},
   "source": [
    "# 4.L"
   ]
  },
  {
   "cell_type": "markdown",
   "id": "98bf77ba",
   "metadata": {},
   "source": [
    "4. Normalize each vector:<br>\n"
   ]
  },
  {
   "cell_type": "markdown",
   "id": "79dbc688",
   "metadata": {},
   "source": [
    "a. $\\textbf{u}$ = (5,-7).<br>\n"
   ]
  },
  {
   "cell_type": "markdown",
   "id": "c2d4cae4",
   "metadata": {},
   "source": [
    "\\begin{align*}\n",
    "u &= (5, 7) \\\\\n",
    "u' &= \\frac{u}{||u||} \\\\\n",
    "||u|| &= \\sqrt{5^2 + (-7)^2} \\\\\n",
    "&= \\sqrt{25 + 49} \\\\\n",
    "&= \\sqrt{74} \\\\\n",
    "u' &= \\left(\\frac{5}{\\sqrt{74}}, \\frac{-7}{\\sqrt{74}}\\right)\n",
    "\\end{align*}\n"
   ]
  },
  {
   "cell_type": "markdown",
   "id": "5c8495f1",
   "metadata": {},
   "source": [
    "b. $\\textbf{v}$ = (1,2,-2,4).<br>"
   ]
  },
  {
   "cell_type": "markdown",
   "id": "372dd2f6",
   "metadata": {},
   "source": [
    "\\begin{align*}\n",
    "v &= (1, 2, -2, 4) \\\\\n",
    "v' &= \\frac{v}{||v||} \\\\\n",
    "||v|| &= \\sqrt{1^2 + 2^2 + (-2)^2 + 4^2} \\\\\n",
    "&= \\sqrt{1 + 4 + 4 + 16} \\\\\n",
    "&= \\sqrt{25} \\\\\n",
    "&= 5 \\\\\n",
    "v' &= \\left(\\frac{1}{5}, \\frac{2}{5}, \\frac{-2}{5}, \\frac{4}{5}\\right)\n",
    "\\end{align*}\n"
   ]
  },
  {
   "cell_type": "markdown",
   "id": "67ed2716",
   "metadata": {},
   "source": [
    "c. $\\textbf{w} = (\\frac{1}{2},\\frac{-1}{3},\\frac{3}{4})$.<br>"
   ]
  },
  {
   "cell_type": "markdown",
   "id": "23187cc2",
   "metadata": {},
   "source": [
    "\\begin{align*}\n",
    "w &= \\left(\\frac{1}{2}, -\\frac{1}{3}, \\frac{3}{4}\\right) \\\\\n",
    "w' &= \\frac{w}{||w||} \\\\\n",
    "||w|| &= \\sqrt{\\left(\\frac{1}{2}\\right)^2 + \\left(-\\frac{1}{3}\\right)^2 + \\left(\\frac{3}{4}\\right)^2} \\\\\n",
    "&= \\sqrt{\\frac{1}{4} + \\frac{1}{9} + \\frac{9}{16}} \\\\\n",
    "&= \\sqrt{\\frac{133}{144}} \\\\\n",
    "&= \\frac{\\sqrt{133}}{12} \\\\\n",
    "w' &= \\left(\\frac{6\\sqrt{133}}{133}, -\\frac{4\\sqrt{133}}{133}, \\frac{9\\sqrt{133}}{133}\\right)\n",
    "\\end{align*}\n"
   ]
  },
  {
   "cell_type": "markdown",
   "id": "6c625f19",
   "metadata": {},
   "source": [
    "# 4.P"
   ]
  },
  {
   "cell_type": "code",
   "execution_count": 43,
   "id": "3754de9b",
   "metadata": {},
   "outputs": [],
   "source": [
    "# Setting UP #\n",
    "import numpy as np\n",
    "\n",
    "# Let \n",
    "u = np.array([5,7])\n",
    "v = np.array([1,2,-2,4])\n",
    "w = np.array([1/2, -1/3, 3/4])"
   ]
  },
  {
   "cell_type": "code",
   "execution_count": 44,
   "id": "4b0c8686",
   "metadata": {},
   "outputs": [
    {
     "name": "stdout",
     "output_type": "stream",
     "text": [
      "u': [0.58123819 0.81373347]\n"
     ]
    }
   ],
   "source": [
    "#a.\n",
    "print(\"u':\", u/np.linalg.norm(u))"
   ]
  },
  {
   "cell_type": "code",
   "execution_count": 45,
   "id": "13df5a7d",
   "metadata": {},
   "outputs": [
    {
     "name": "stdout",
     "output_type": "stream",
     "text": [
      "v': [ 0.2  0.4 -0.4  0.8]\n"
     ]
    }
   ],
   "source": [
    "#b.\n",
    "print(\"v':\", v/np.linalg.norm(v))"
   ]
  },
  {
   "cell_type": "code",
   "execution_count": 46,
   "id": "6ea77bed",
   "metadata": {},
   "outputs": [
    {
     "name": "stdout",
     "output_type": "stream",
     "text": [
      "w': [ 0.52026598 -0.34684399  0.78039897]\n"
     ]
    }
   ],
   "source": [
    "#c.\n",
    "print(\"w':\", w/np.linalg.norm(w))"
   ]
  },
  {
   "cell_type": "markdown",
   "id": "722f1e06",
   "metadata": {},
   "source": [
    "# 5.L"
   ]
  },
  {
   "cell_type": "markdown",
   "id": "019e824c",
   "metadata": {},
   "source": [
    "5. Let $\\textbf{u} = (1,2,-2)$,$\\textbf{v} = (3,-12,4)$ and a scalar $k = -3$: "
   ]
  },
  {
   "cell_type": "markdown",
   "id": "afbc1ab8",
   "metadata": {},
   "source": [
    "Find $||u||$"
   ]
  },
  {
   "cell_type": "markdown",
   "id": "c1350a81",
   "metadata": {},
   "source": [
    "\\begin{align*}\n",
    "||u|| &= \\sqrt{1^2 + 2^2 + (-2)^2} \\\\\n",
    "&= \\sqrt{1 + 4 + 4} \\\\\n",
    "&= \\sqrt{9} \\\\\n",
    "&= 3\n",
    "\\end{align*}\n"
   ]
  },
  {
   "cell_type": "markdown",
   "id": "69474582",
   "metadata": {},
   "source": [
    "Find $||v||$"
   ]
  },
  {
   "cell_type": "markdown",
   "id": "ab432ccf",
   "metadata": {},
   "source": [
    "\\begin{align*}\n",
    "||v|| &= \\sqrt{3^2 + (-12)^2 + 4^2} \\\\\n",
    "&= \\sqrt{9 + 144 + 16} \\\\\n",
    "&= \\sqrt{169} \\\\\n",
    "&= 13\n",
    "\\end{align*}\n"
   ]
  },
  {
   "cell_type": "markdown",
   "id": "00bf0d02",
   "metadata": {},
   "source": [
    "Find $||u+v||$"
   ]
  },
  {
   "cell_type": "markdown",
   "id": "91bbb5f0",
   "metadata": {},
   "source": [
    "\\begin{align*}\n",
    "||u+v|| &= \\sqrt{(1+3)^2 + (2-12)^2 + (-2+4)^2} \\\\\n",
    "&= \\sqrt{4^2 + (-10)^2 + 2^2} \\\\\n",
    "&= \\sqrt{16 + 100 + 4} \\\\\n",
    "&= \\sqrt{120}\n",
    "\\end{align*}\n"
   ]
  },
  {
   "cell_type": "markdown",
   "id": "78cbc4cb",
   "metadata": {},
   "source": [
    "Find $||ku||$"
   ]
  },
  {
   "cell_type": "markdown",
   "id": "7b11deea",
   "metadata": {},
   "source": [
    "\\begin{align*}\n",
    "||ku|| &= |-3| \\cdot ||u|| \\\\\n",
    "&= 3 \\cdot 3 \\\\\n",
    "&= 9\n",
    "\\end{align*}\n"
   ]
  },
  {
   "cell_type": "markdown",
   "id": "295e3fb0",
   "metadata": {},
   "source": [
    "# 5.P"
   ]
  },
  {
   "cell_type": "code",
   "execution_count": 47,
   "id": "7e4ea51a",
   "metadata": {},
   "outputs": [],
   "source": [
    "# Setting UP #\n",
    "import numpy as np\n",
    "\n",
    "# Let\n",
    "u = np.array([1,2,-2])\n",
    "v = np.array([3,-12,4])\n",
    "k = -3"
   ]
  },
  {
   "cell_type": "code",
   "execution_count": 48,
   "id": "55b9f88e",
   "metadata": {},
   "outputs": [
    {
     "name": "stdout",
     "output_type": "stream",
     "text": [
      "||u|| = 3.0\n"
     ]
    }
   ],
   "source": [
    "#Find ||u||\n",
    "print(\"||u|| =\",np.sqrt(u.dot(u)))"
   ]
  },
  {
   "cell_type": "code",
   "execution_count": 49,
   "id": "94341481",
   "metadata": {},
   "outputs": [
    {
     "name": "stdout",
     "output_type": "stream",
     "text": [
      "||v|| = 13.0\n"
     ]
    }
   ],
   "source": [
    "#Find ||v||\n",
    "print(\"||v|| =\",np.sqrt(v.dot(v)))"
   ]
  },
  {
   "cell_type": "code",
   "execution_count": 50,
   "id": "196a8f00",
   "metadata": {},
   "outputs": [
    {
     "name": "stdout",
     "output_type": "stream",
     "text": [
      "||u+v|| = 10.954451150103322\n"
     ]
    }
   ],
   "source": [
    "#Find ||u+v||\n",
    "print(\"||u+v|| =\", np.linalg.norm(u+v))"
   ]
  },
  {
   "cell_type": "code",
   "execution_count": 51,
   "id": "b4286c34",
   "metadata": {},
   "outputs": [
    {
     "name": "stdout",
     "output_type": "stream",
     "text": [
      "||ku|| = 9.0\n"
     ]
    }
   ],
   "source": [
    "#Find ||ku||\n",
    "print(\"||ku|| =\", np.linalg.norm(k*u))"
   ]
  },
  {
   "cell_type": "markdown",
   "id": "0302d9f0",
   "metadata": {},
   "source": [
    "# 6.L"
   ]
  },
  {
   "cell_type": "markdown",
   "id": "fd0a324c",
   "metadata": {},
   "source": [
    "6. Find k so that $\\textbf{u}  \\ and \\  \\textbf{v}$ are orthogonal."
   ]
  },
  {
   "cell_type": "markdown",
   "id": "9ef81085",
   "metadata": {},
   "source": [
    "a. $\\textbf{u} = (3, k, -2), \\textbf{v} = (6, -4, -3)$.<br>"
   ]
  },
  {
   "cell_type": "markdown",
   "id": "9807689c",
   "metadata": {},
   "source": [
    "\\begin{align*}\n",
    "u &= (3,k,-2),\\quad v = (6,-4,-3) \\\\\n",
    "3(6) + k(-4) + (-2)(-3) &= 0 \\\\\n",
    "18 - 4k + 6 &= 0 \\\\\n",
    "24 - 4k &= 0 \\\\\n",
    "4k &= 24 \\\\\n",
    "k &= 6\n",
    "\\end{align*}\n"
   ]
  },
  {
   "cell_type": "markdown",
   "id": "33aa9144",
   "metadata": {},
   "source": [
    "b. $\\textbf{u} = (5,k,-4,2), \\textbf{v} = (1,-3,2,2k)$.<br>\n"
   ]
  },
  {
   "cell_type": "markdown",
   "id": "71ad6d25",
   "metadata": {},
   "source": [
    "\\begin{align*}\n",
    "u &= (5,k,-4,2),\\quad v = (1,-3,2,2k) \\\\\n",
    "5(1) + k(-3) + (-4)(2) + 2(2k) &= 0 \\\\\n",
    "5 - 3k - 8 + 4k &= 0 \\\\\n",
    "-3k + 4k &= -5 + 8 \\\\\n",
    "k &= 3\n",
    "\\end{align*}\n"
   ]
  },
  {
   "cell_type": "markdown",
   "id": "d358ec78",
   "metadata": {},
   "source": [
    "c. $\\textbf{u} = (1,7,k+2,-2), \\textbf{v} = (3, k, -3,k)$.<br>"
   ]
  },
  {
   "cell_type": "markdown",
   "id": "d833ded6",
   "metadata": {},
   "source": [
    "\\begin{align*}\n",
    "u &= (1,7,k+2,-2),\\quad v = (3,k,-3,k) \\\\\n",
    "1(3) + 7(k) + (k+2)(-3) + (-2)(k) &= 0 \\\\\n",
    "3 + 7k - 3k - 6 - 2k &= 0 \\\\\n",
    "7k - 3k - 2k &= -3 + 6 \\\\\n",
    "2k &= 3 \\\\\n",
    "k &= \\frac{3}{2}\n",
    "\\end{align*}\n"
   ]
  },
  {
   "cell_type": "markdown",
   "id": "e2ea9243",
   "metadata": {},
   "source": [
    "# 6.P"
   ]
  },
  {
   "cell_type": "code",
   "execution_count": 52,
   "id": "26da07cd",
   "metadata": {},
   "outputs": [
    {
     "name": "stdout",
     "output_type": "stream",
     "text": [
      "k = [6]\n"
     ]
    }
   ],
   "source": [
    "import sympy as sp\n",
    "#a.\n",
    "k = sp.symbols('k')\n",
    "u = sp.Matrix([3, k, -2])\n",
    "v = sp.Matrix([6, -4, -3])\n",
    "print(\"k =\", sp.solve((sp.Eq(u.dot(v), 0)), k))"
   ]
  },
  {
   "cell_type": "code",
   "execution_count": 53,
   "id": "fc5ef7bd",
   "metadata": {},
   "outputs": [
    {
     "name": "stdout",
     "output_type": "stream",
     "text": [
      "k = [3]\n"
     ]
    }
   ],
   "source": [
    "#b.\n",
    "k = sp.symbols('k')\n",
    "u = sp.Matrix([5, k, -4, 2])\n",
    "v = sp.Matrix([1, -3, 2, 2*k])\n",
    "print(\"k =\", sp.solve((sp.Eq(u.dot(v), 0)), k))"
   ]
  },
  {
   "cell_type": "code",
   "execution_count": 54,
   "id": "aa1ec78d",
   "metadata": {},
   "outputs": [
    {
     "name": "stdout",
     "output_type": "stream",
     "text": [
      "k = [3/2]\n"
     ]
    }
   ],
   "source": [
    "#c.\n",
    "k = sp.symbols('k')\n",
    "u = sp.Matrix([1, 7, k + 2, -2])\n",
    "v = sp.Matrix([3, k, -3, k])\n",
    "print(\"k =\", sp.solve((sp.Eq(u.dot(v), 0)), k))"
   ]
  }
 ],
 "metadata": {
  "kernelspec": {
   "display_name": "Python 3 (ipykernel)",
   "language": "python",
   "name": "python3"
  },
  "language_info": {
   "codemirror_mode": {
    "name": "ipython",
    "version": 3
   },
   "file_extension": ".py",
   "mimetype": "text/x-python",
   "name": "python",
   "nbconvert_exporter": "python",
   "pygments_lexer": "ipython3",
   "version": "3.12.0"
  }
 },
 "nbformat": 4,
 "nbformat_minor": 5
}
